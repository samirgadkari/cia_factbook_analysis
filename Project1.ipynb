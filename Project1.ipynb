{
  "nbformat": 4,
  "nbformat_minor": 0,
  "metadata": {
    "colab": {
      "name": "Project1.ipynb",
      "version": "0.3.2",
      "provenance": [],
      "collapsed_sections": [],
      "include_colab_link": true
    },
    "kernelspec": {
      "display_name": "Python 3",
      "language": "python",
      "name": "python3"
    }
  },
  "cells": [
    {
      "cell_type": "markdown",
      "metadata": {
        "id": "view-in-github",
        "colab_type": "text"
      },
      "source": [
        "<a href=\"https://colab.research.google.com/github/samirgadkari/cia_factbook_analysis/blob/master/Project1.ipynb\" target=\"_parent\"><img src=\"https://colab.research.google.com/assets/colab-badge.svg\" alt=\"Open In Colab\"/></a>"
      ]
    },
    {
      "metadata": {
        "id": "HGEl9RRtD-II",
        "colab_type": "text"
      },
      "cell_type": "markdown",
      "source": [
        "# Hypothesis, Approach, Results, Interpretation\n",
        "Hypothesis: We can find the features that affect countries wealth and health.\n",
        "\n",
        "Approach: \n",
        "1. Get data from the CIA factbook site: https://www.cia.gov/library/publications/the-world-factbook/\n",
        "2. Extract data from HTML files.\n",
        "3. For health, we selected these features:\n",
        "\n",
        "  *  Infant mortality rate\n",
        "  * HIV/AIDS prevalence in adults\n",
        "4. For Wealth we selected features:\n",
        "  *  GDP per capita\n",
        "  *  Unemployment Rate\n",
        "  *  Budget Revenues\n",
        "  *  Budget Expenditures\n",
        "  *  Industrial Production Growth Rate\n",
        "  *  Exports in USD\n",
        "  *  Imports in USD\n",
        "  *  External debt\n",
        "  \n",
        "  \n",
        "  Results:\n",
        "  \n",
        " These features are statistically significant to Wealth of a nation:\n",
        " \n",
        "   * Budget Revenues (statistic: -1.8, pvalue: 0.065)\n",
        "   * Exports (statistic: -3.5, pvalue: 0.0005)\n",
        "   * Imports (statistic: -1.8, pvalue: 0.073)\n",
        "  \n",
        "Usually we consider a pvalue < 0.05 as significant (especially for research). For medical research, pvalue of 0.01 and lesser is preferred. Since countries are really messy in terms of gathering and understanding data, and since there is a large human behavioral component to countries, getting a pvalue of 0.07, or 0,065 is really good.\n",
        "\n",
        "\n",
        "\n",
        "Interpretation:\n",
        "\n",
        "  *  Wealth of a nation is a zero-sum game.  You can buy goods from someone else within your country, and money just changes hands.  The wealth of the nation has not increased because of it.\n",
        "  *  The only way to increase a nations' wealth is to provide goods and services to other nations.  Exports make a nation wealthier.\n",
        "  *  Companies invest this revenue in the nation to get better efficiencies. Better efficiencies will allow you to keep more of what you earn from your trade.  We don't have an indicator of efficiencies in our dataset.\n",
        "  *  Companies spend on industrial equipment from developed countries to increase their efficiency. This is why Imports are linked to a nations' wealth.\n",
        "  *  When you earn more, you're taxed more by the government.  This is why the government Budget Revenues are correlated with the nations' wealth. "
      ]
    },
    {
      "metadata": {
        "id": "RPThf_uP0DcH",
        "colab_type": "text"
      },
      "cell_type": "markdown",
      "source": [
        "# Importing data and libraries"
      ]
    },
    {
      "metadata": {
        "id": "xGSafW3Iz2e4",
        "colab_type": "code",
        "outputId": "f374e2ee-f1cf-44c6-e319-01e973632754",
        "colab": {
          "base_uri": "https://localhost:8080/",
          "height": 207
        }
      },
      "cell_type": "code",
      "source": [
        "import numpy as np\n",
        "import pandas as pd\n",
        "\n",
        "!pip install --upgrade seaborn\n",
        "import seaborn as sns\n",
        "sns.__version__\n",
        "\n",
        "%matplotlib inline\n",
        "\n",
        "import matplotlib.pyplot as plt\n",
        "import seaborn as sns\n",
        "\n",
        "import matplotlib.pyplot as plt\n",
        "import numpy as np\n",
        "\n",
        "from scipy import stats"
      ],
      "execution_count": 0,
      "outputs": [
        {
          "output_type": "stream",
          "text": [
            "Requirement already up-to-date: seaborn in /usr/local/lib/python3.6/dist-packages (0.9.0)\n",
            "Requirement already satisfied, skipping upgrade: matplotlib>=1.4.3 in /usr/local/lib/python3.6/dist-packages (from seaborn) (2.1.2)\n",
            "Requirement already satisfied, skipping upgrade: scipy>=0.14.0 in /usr/local/lib/python3.6/dist-packages (from seaborn) (1.1.0)\n",
            "Requirement already satisfied, skipping upgrade: numpy>=1.9.3 in /usr/local/lib/python3.6/dist-packages (from seaborn) (1.14.6)\n",
            "Requirement already satisfied, skipping upgrade: pandas>=0.15.2 in /usr/local/lib/python3.6/dist-packages (from seaborn) (0.22.0)\n",
            "Requirement already satisfied, skipping upgrade: pytz in /usr/local/lib/python3.6/dist-packages (from matplotlib>=1.4.3->seaborn) (2018.7)\n",
            "Requirement already satisfied, skipping upgrade: cycler>=0.10 in /usr/local/lib/python3.6/dist-packages (from matplotlib>=1.4.3->seaborn) (0.10.0)\n",
            "Requirement already satisfied, skipping upgrade: python-dateutil>=2.1 in /usr/local/lib/python3.6/dist-packages (from matplotlib>=1.4.3->seaborn) (2.5.3)\n",
            "Requirement already satisfied, skipping upgrade: six>=1.10 in /usr/local/lib/python3.6/dist-packages (from matplotlib>=1.4.3->seaborn) (1.11.0)\n",
            "Requirement already satisfied, skipping upgrade: pyparsing!=2.0.4,!=2.1.2,!=2.1.6,>=2.0.1 in /usr/local/lib/python3.6/dist-packages (from matplotlib>=1.4.3->seaborn) (2.3.0)\n"
          ],
          "name": "stdout"
        }
      ]
    },
    {
      "metadata": {
        "id": "gxMzX3VB09B_",
        "colab_type": "text"
      },
      "cell_type": "markdown",
      "source": [
        "# Set DataFrame Display Options"
      ]
    },
    {
      "metadata": {
        "id": "QVeYPgIT090W",
        "colab_type": "code",
        "colab": {}
      },
      "cell_type": "code",
      "source": [
        "pd.set_option('display.max_rows', 400)\n",
        "pd.set_option('display.height', 400)\n",
        "pd.set_option('display.width', 400)"
      ],
      "execution_count": 0,
      "outputs": []
    },
    {
      "metadata": {
        "id": "MRxydZtq0Krx",
        "colab_type": "text"
      },
      "cell_type": "markdown",
      "source": [
        "# Load Data\n",
        "\n",
        "## Note: Data is saved in files in the same directory as the notebook.  You should import all files in that directory and then run the following cell."
      ]
    },
    {
      "metadata": {
        "id": "BEIixIJVz2fD",
        "colab_type": "code",
        "colab": {}
      },
      "cell_type": "code",
      "source": [
        "population = pd.read_csv('2119',\n",
        "                        names = ['Country', 'Metric', 'Year',\n",
        "                                 'Population'],\n",
        "                        usecols = ['Country', 'Year',\n",
        "                                   'Population'],\n",
        "                        index_col = ['Country', 'Year'],\n",
        "                        dtype = {'Country': str, 'Metric': np.int32,\n",
        "                                   'Year': np.int32,\n",
        "                                  'Population': np.float64})\n",
        "infant_mortality_rate = pd.read_csv('2091',\n",
        "                          names = ['Country', 'Metric', 'Year', \n",
        "                                   'Infant Deaths per 1000 births'],\n",
        "                          usecols = ['Country', 'Year', \n",
        "                                     'Infant Deaths per 1000 births'],\n",
        "                          index_col = ['Country', 'Year'],\n",
        "                          dtype = {'Country': str, 'Metric': np.int32,\n",
        "                                   'Year': np.int32, \n",
        "                                   'Infant Deaths per 1000 births': np.float64},\n",
        "                          header = None\n",
        "                        )\n",
        "land_use = pd.read_csv('2097',\n",
        "                          names = ['Country', 'Metric', 'Year', 'Arable Land',\n",
        "                                   'Permanent Crops', 'Other Land Use'],\n",
        "                          usecols = ['Country', 'Year', 'Arable Land',\n",
        "                                   'Permanent Crops', 'Other Land Use'],\n",
        "                          index_col = ['Country', 'Year'],\n",
        "                          dtype = {'Country': str, 'Metric': np.int32,\n",
        "                                   'Year': np.int32, 'Arable Land': np.float64,\n",
        "                                   'Permanent Crops': np.float64,\n",
        "                                   'Other Land Use': np.float64},\n",
        "                          header = None\n",
        "                        )\n",
        "age_structure = pd.read_csv('2010',\n",
        "                          names = ['Country', 'Metric', 'Year', \n",
        "                                   'Percent of 0 to 14 years old',\n",
        "                                   'Percent of 15 to 64 years old',\n",
        "                                   'Percent of 65 and older'],\n",
        "                          usecols = ['Country', 'Year',  \n",
        "                                   'Percent of 0 to 14 years old',\n",
        "                                   'Percent of 15 to 64 years old',\n",
        "                                   'Percent of 65 and older'],\n",
        "                          index_col = ['Country', 'Year'],\n",
        "                          dtype = {'Country': str, 'Metric': np.int32,\n",
        "                                   'Year': np.int32, \n",
        "                                   'Percent of 0 to 14 years old': np.float64,\n",
        "                                   'Percent of 15 to 64 years old': np.float64,\n",
        "                                   'Percent of 65 and older': np.float64},\n",
        "                          header = None\n",
        "                        )\n",
        "electricity_production = pd.read_csv('2038',\n",
        "                          names = ['Country', 'Metric', 'Year', \n",
        "                                   'Electricity Produced in kWh'],\n",
        "                          usecols = ['Country', 'Year', \n",
        "                                     'Electricity Produced in kWh'],\n",
        "                          index_col = ['Country', 'Year'],\n",
        "                          dtype = {'Country': str, 'Metric': np.int32,\n",
        "                                   'Year': np.int32, \n",
        "                                   'Electricity Produced in kWh': np.float64},\n",
        "                          header = None\n",
        "                        )\n",
        "irrigated_land = pd.read_csv('2146',\n",
        "                          names = ['Country', 'Metric', 'Year', \n",
        "                                   'Irrigated Land in sq km'],\n",
        "                          usecols = ['Country', 'Year', \n",
        "                                     'Irrigated Land in sq km'],\n",
        "                          index_col = ['Country', 'Year'],\n",
        "                          dtype = {'Country': str, 'Metric': np.int32,\n",
        "                                   'Year': np.int32, \n",
        "                                   'Irrigated Land in sq km': np.float64},\n",
        "                          header = None\n",
        "                        )\n",
        "aids_prevalence_rate = pd.read_csv('2155',\n",
        "                          names = ['Country', 'Metric', 'Year', \n",
        "                                   'Percent of adults with HIV AIDS'],\n",
        "                          usecols = ['Country', 'Year', \n",
        "                                     'Percent of adults with HIV AIDS'],\n",
        "                          index_col = ['Country', 'Year'],\n",
        "                          dtype = {'Country': str, 'Metric': np.int32,\n",
        "                                   'Year': np.int32, \n",
        "                                   'Percent of adults with HIV AIDS': np.float64},\n",
        "                          header = None\n",
        "                        )\n",
        "literacy_rate = pd.read_csv('2103',\n",
        "                          names = ['Country', 'Metric', 'Year', \n",
        "                                   'Literacy Rate'],\n",
        "                          usecols = ['Country', 'Year', \n",
        "                                     'Literacy Rate'],\n",
        "                          index_col = ['Country', 'Year'],\n",
        "                          dtype = {'Country': str, 'Metric': np.int32,\n",
        "                                   'Year': np.int32, \n",
        "                                   'Literacy Rate': np.float64},\n",
        "                          header = None\n",
        "                        )\n",
        "gdp_per_capita = pd.read_csv('2004',\n",
        "                          names = ['Country', 'Metric', 'Year', \n",
        "                                   'GDP per capita'],\n",
        "                          usecols = ['Country', 'Year', \n",
        "                                     'GDP per capita'],\n",
        "                          index_col = ['Country', 'Year'],\n",
        "                          dtype = {'Country': str, 'Metric': np.int32,\n",
        "                                   'Year': np.int32, \n",
        "                                   'GDP per capita': np.float64},\n",
        "                          header = None\n",
        "                        )\n",
        "gdp_per_sector = pd.read_csv('2012',\n",
        "                          names = ['Country', 'Metric', 'Year', \n",
        "                                   'GDP for Agriculture', \n",
        "                                   'GDP for Industry', \n",
        "                                   'GDP for Services'],\n",
        "                          usecols = ['Country', 'Year', \n",
        "                                   'GDP for Agriculture', \n",
        "                                   'GDP for Industry', \n",
        "                                   'GDP for Services'],\n",
        "                          index_col = ['Country', 'Year'],\n",
        "                          dtype = {'Country': str, 'Metric': np.int32,\n",
        "                                   'Year': np.int32, \n",
        "                                   'GDP for Agriculture': np.float64,\n",
        "                                   'GDP for Industry': np.float64,\n",
        "                                   'GDP for Services': np.float64},\n",
        "                          header = None\n",
        "                        )\n",
        "labor_force = pd.read_csv('2095',\n",
        "                          names = ['Country', 'Metric', 'Year', \n",
        "                                   'Labor Force'],\n",
        "                          usecols = ['Country', 'Year', 'Labor Force'],\n",
        "                          index_col = ['Country', 'Year'],\n",
        "                          dtype = {'Country': str, 'Metric': np.int32,\n",
        "                                   'Year': np.int32, 'Labor Force': np.float64},\n",
        "                          header = None\n",
        "                        )\n",
        "unemployment_rate = pd.read_csv('2129',\n",
        "                          names = ['Country', 'Metric', 'Year', \n",
        "                                   'Unemployment Rate'],\n",
        "                          usecols = ['Country', 'Year', \n",
        "                                     'Unemployment Rate'],\n",
        "                          index_col = ['Country', 'Year'],\n",
        "                          dtype = {'Country': str, 'Metric': np.int32,\n",
        "                                   'Year': np.int32, \n",
        "                                   'Unemployment Rate': np.float64},\n",
        "                          header = None\n",
        "                        )\n",
        "budget = pd.read_csv('2056',\n",
        "                          names = ['Country', 'Metric', 'Year', \n",
        "                                   'Budget Revenues', \n",
        "                                   'Budget Expenditures'],\n",
        "                          usecols = ['Country', 'Year', \n",
        "                                   'Budget Revenues', \n",
        "                                   'Budget Expenditures'],\n",
        "                          index_col = ['Country', 'Year'],\n",
        "                          dtype = {'Country': str, 'Metric': np.int32,\n",
        "                                   'Year': np.int32, \n",
        "                                   'Budget Revenues': np.float64,\n",
        "                                   'Budget Expenditures': np.float64},\n",
        "                          header = None\n",
        "                        )\n",
        "industrial_production_growth_rate = pd.read_csv('2089',\n",
        "                          names = ['Country', 'Metric', 'Year', \n",
        "                                   'Industrial Production Growth Rate'],\n",
        "                          usecols = ['Country', 'Year', \n",
        "                                     'Industrial Production Growth Rate'],\n",
        "                          index_col = ['Country', 'Year'],\n",
        "                          dtype = {'Country': str, 'Metric': np.int32,\n",
        "                                   'Year': np.int32, \n",
        "                                   'Industrial Production Growth Rate': np.float64},\n",
        "                          header = None\n",
        "                        )\n",
        "exports = pd.read_csv('2078',\n",
        "                          names = ['Country', 'Metric', 'Year', 'Exports in USD'],\n",
        "                          usecols = ['Country', 'Year', 'Exports in USD'],\n",
        "                          index_col = ['Country', 'Year'],\n",
        "                          dtype = {'Country': str, 'Metric': np.int32,\n",
        "                                   'Year': np.int32, 'Exports in USD': np.float64},\n",
        "                          header = None\n",
        "                        )\n",
        "imports = pd.read_csv('2087',\n",
        "                          names = ['Country', 'Metric', 'Year', 'Imports in USD'],\n",
        "                          usecols = ['Country', 'Year', 'Imports in USD'],\n",
        "                          index_col = ['Country', 'Year'],\n",
        "                          dtype = {'Country': str, 'Metric': np.int32,\n",
        "                                   'Year': np.int32, 'Imports in USD': np.float64},\n",
        "                          header = None\n",
        "                        )\n",
        "external_debt = pd.read_csv('2079',\n",
        "                          names = ['Country', 'Metric', 'Year', 'External debt'],\n",
        "                          usecols = ['Country', 'Year', 'External debt'],\n",
        "                          index_col = ['Country', 'Year'],\n",
        "                          dtype = {'Country': str, 'Metric': np.int32,\n",
        "                                   'Year': np.int32, 'External debt': np.float64},\n",
        "                          header = None\n",
        "                        )\n",
        "economic_aid_recipient = pd.read_csv('2064',\n",
        "                          names = ['Country', 'Metric', 'Year', \n",
        "                                   'Economic Aid received'],\n",
        "                          usecols = ['Country', 'Year', 'Economic Aid received'],\n",
        "                          index_col = ['Country', 'Year'],\n",
        "                          dtype = {'Country': str, 'Metric': np.int32,\n",
        "                                   'Year': np.int32, \n",
        "                                   'Economic Aid received': np.float64},\n",
        "                          header = None\n",
        "                        )\n",
        "government_type = pd.read_csv('2128',\n",
        "                          names = ['Country', 'Metric', 'Year', \n",
        "                                   'Type of Government'],\n",
        "                          usecols = ['Country', 'Year', 'Type of Government'],\n",
        "                          index_col = ['Country', 'Year'],\n",
        "                          dtype = {'Country': str, 'Metric': np.int32,\n",
        "                                   'Year': np.int32, \n",
        "                                   'Type of Government': str},\n",
        "                          header = None\n",
        "                        )"
      ],
      "execution_count": 0,
      "outputs": []
    },
    {
      "metadata": {
        "id": "eOZnFklv0j-M",
        "colab_type": "text"
      },
      "cell_type": "markdown",
      "source": [
        "# Merge Dataframes"
      ]
    },
    {
      "metadata": {
        "id": "DZGOhFRSkUPc",
        "colab_type": "code",
        "outputId": "dedf9eba-1047-4250-bd32-fb96fee55fc2",
        "colab": {
          "base_uri": "https://localhost:8080/",
          "height": 936
        }
      },
      "cell_type": "code",
      "source": [
        "def add_columns_to_df(df1, df2):\n",
        "  df1 = df1.reset_index()\n",
        "  df2 = df2.reset_index()\n",
        "  res = pd.merge(df1, df2, on = ['Country', 'Year'], how = 'outer')\n",
        "  res = res.set_index(['Country', 'Year'])\n",
        "  return res\n",
        "\n",
        "\n",
        "all_data = add_columns_to_df(land_use, infant_mortality_rate)\n",
        "\n",
        "add_dfs = [age_structure, electricity_production, irrigated_land,\n",
        "            aids_prevalence_rate, literacy_rate, gdp_per_capita,\n",
        "            gdp_per_sector, labor_force, unemployment_rate,\n",
        "            budget, industrial_production_growth_rate, exports,\n",
        "            imports, external_debt, economic_aid_recipient,\n",
        "            government_type, population]\n",
        "for df in add_dfs:\n",
        "  all_data = add_columns_to_df(all_data, df)\n",
        "\n",
        "all_data.sort_index(level = ['Country', 'Year'], inplace = True)\n",
        "all_data.head(20)"
      ],
      "execution_count": 0,
      "outputs": [
        {
          "output_type": "execute_result",
          "data": {
            "text/html": [
              "<div>\n",
              "<style scoped>\n",
              "    .dataframe tbody tr th:only-of-type {\n",
              "        vertical-align: middle;\n",
              "    }\n",
              "\n",
              "    .dataframe tbody tr th {\n",
              "        vertical-align: top;\n",
              "    }\n",
              "\n",
              "    .dataframe thead th {\n",
              "        text-align: right;\n",
              "    }\n",
              "</style>\n",
              "<table border=\"1\" class=\"dataframe\">\n",
              "  <thead>\n",
              "    <tr style=\"text-align: right;\">\n",
              "      <th></th>\n",
              "      <th></th>\n",
              "      <th>Arable Land</th>\n",
              "      <th>Permanent Crops</th>\n",
              "      <th>Other Land Use</th>\n",
              "      <th>Infant Deaths per 1000 births</th>\n",
              "      <th>Percent of 0 to 14 years old</th>\n",
              "      <th>Percent of 15 to 64 years old</th>\n",
              "      <th>Percent of 65 and older</th>\n",
              "      <th>Electricity Produced in kWh</th>\n",
              "      <th>Irrigated Land in sq km</th>\n",
              "      <th>Percent of adults with HIV AIDS</th>\n",
              "      <th>...</th>\n",
              "      <th>Unemployment Rate</th>\n",
              "      <th>Budget Revenues</th>\n",
              "      <th>Budget Expenditures</th>\n",
              "      <th>Industrial Production Growth Rate</th>\n",
              "      <th>Exports in USD</th>\n",
              "      <th>Imports in USD</th>\n",
              "      <th>External debt</th>\n",
              "      <th>Economic Aid received</th>\n",
              "      <th>Type of Government</th>\n",
              "      <th>Population</th>\n",
              "    </tr>\n",
              "    <tr>\n",
              "      <th>Country</th>\n",
              "      <th>Year</th>\n",
              "      <th></th>\n",
              "      <th></th>\n",
              "      <th></th>\n",
              "      <th></th>\n",
              "      <th></th>\n",
              "      <th></th>\n",
              "      <th></th>\n",
              "      <th></th>\n",
              "      <th></th>\n",
              "      <th></th>\n",
              "      <th></th>\n",
              "      <th></th>\n",
              "      <th></th>\n",
              "      <th></th>\n",
              "      <th></th>\n",
              "      <th></th>\n",
              "      <th></th>\n",
              "      <th></th>\n",
              "      <th></th>\n",
              "      <th></th>\n",
              "      <th></th>\n",
              "    </tr>\n",
              "  </thead>\n",
              "  <tbody>\n",
              "    <tr>\n",
              "      <th rowspan=\"20\" valign=\"top\">Afghanistan</th>\n",
              "      <th>1990</th>\n",
              "      <td>NaN</td>\n",
              "      <td>NaN</td>\n",
              "      <td>NaN</td>\n",
              "      <td>NaN</td>\n",
              "      <td>NaN</td>\n",
              "      <td>NaN</td>\n",
              "      <td>NaN</td>\n",
              "      <td>NaN</td>\n",
              "      <td>NaN</td>\n",
              "      <td>NaN</td>\n",
              "      <td>...</td>\n",
              "      <td>NaN</td>\n",
              "      <td>NaN</td>\n",
              "      <td>NaN</td>\n",
              "      <td>NaN</td>\n",
              "      <td>NaN</td>\n",
              "      <td>NaN</td>\n",
              "      <td>NaN</td>\n",
              "      <td>NaN</td>\n",
              "      <td>NaN</td>\n",
              "      <td>NaN</td>\n",
              "    </tr>\n",
              "    <tr>\n",
              "      <th>1996</th>\n",
              "      <td>NaN</td>\n",
              "      <td>NaN</td>\n",
              "      <td>NaN</td>\n",
              "      <td>NaN</td>\n",
              "      <td>NaN</td>\n",
              "      <td>NaN</td>\n",
              "      <td>NaN</td>\n",
              "      <td>NaN</td>\n",
              "      <td>NaN</td>\n",
              "      <td>NaN</td>\n",
              "      <td>...</td>\n",
              "      <td>NaN</td>\n",
              "      <td>NaN</td>\n",
              "      <td>NaN</td>\n",
              "      <td>NaN</td>\n",
              "      <td>NaN</td>\n",
              "      <td>NaN</td>\n",
              "      <td>5.500000e+09</td>\n",
              "      <td>NaN</td>\n",
              "      <td>NaN</td>\n",
              "      <td>NaN</td>\n",
              "    </tr>\n",
              "    <tr>\n",
              "      <th>1998</th>\n",
              "      <td>12.13</td>\n",
              "      <td>0.22</td>\n",
              "      <td>87.65</td>\n",
              "      <td>NaN</td>\n",
              "      <td>NaN</td>\n",
              "      <td>NaN</td>\n",
              "      <td>NaN</td>\n",
              "      <td>NaN</td>\n",
              "      <td>23860.0</td>\n",
              "      <td>NaN</td>\n",
              "      <td>...</td>\n",
              "      <td>NaN</td>\n",
              "      <td>NaN</td>\n",
              "      <td>NaN</td>\n",
              "      <td>NaN</td>\n",
              "      <td>NaN</td>\n",
              "      <td>NaN</td>\n",
              "      <td>NaN</td>\n",
              "      <td>NaN</td>\n",
              "      <td>NaN</td>\n",
              "      <td>NaN</td>\n",
              "    </tr>\n",
              "    <tr>\n",
              "      <th>1999</th>\n",
              "      <td>NaN</td>\n",
              "      <td>NaN</td>\n",
              "      <td>NaN</td>\n",
              "      <td>NaN</td>\n",
              "      <td>NaN</td>\n",
              "      <td>NaN</td>\n",
              "      <td>NaN</td>\n",
              "      <td>NaN</td>\n",
              "      <td>NaN</td>\n",
              "      <td>0.01</td>\n",
              "      <td>...</td>\n",
              "      <td>NaN</td>\n",
              "      <td>NaN</td>\n",
              "      <td>NaN</td>\n",
              "      <td>NaN</td>\n",
              "      <td>NaN</td>\n",
              "      <td>NaN</td>\n",
              "      <td>NaN</td>\n",
              "      <td>NaN</td>\n",
              "      <td>NaN</td>\n",
              "      <td>NaN</td>\n",
              "    </tr>\n",
              "    <tr>\n",
              "      <th>2000</th>\n",
              "      <td>NaN</td>\n",
              "      <td>NaN</td>\n",
              "      <td>NaN</td>\n",
              "      <td>NaN</td>\n",
              "      <td>NaN</td>\n",
              "      <td>NaN</td>\n",
              "      <td>NaN</td>\n",
              "      <td>375000000.0</td>\n",
              "      <td>NaN</td>\n",
              "      <td>NaN</td>\n",
              "      <td>...</td>\n",
              "      <td>NaN</td>\n",
              "      <td>NaN</td>\n",
              "      <td>NaN</td>\n",
              "      <td>NaN</td>\n",
              "      <td>NaN</td>\n",
              "      <td>NaN</td>\n",
              "      <td>NaN</td>\n",
              "      <td>NaN</td>\n",
              "      <td>NaN</td>\n",
              "      <td>NaN</td>\n",
              "    </tr>\n",
              "    <tr>\n",
              "      <th>2001</th>\n",
              "      <td>12.13</td>\n",
              "      <td>0.22</td>\n",
              "      <td>87.65</td>\n",
              "      <td>NaN</td>\n",
              "      <td>NaN</td>\n",
              "      <td>NaN</td>\n",
              "      <td>NaN</td>\n",
              "      <td>334800000.0</td>\n",
              "      <td>NaN</td>\n",
              "      <td>0.01</td>\n",
              "      <td>...</td>\n",
              "      <td>NaN</td>\n",
              "      <td>NaN</td>\n",
              "      <td>NaN</td>\n",
              "      <td>NaN</td>\n",
              "      <td>1.200000e+09</td>\n",
              "      <td>1.300000e+09</td>\n",
              "      <td>NaN</td>\n",
              "      <td>NaN</td>\n",
              "      <td>NaN</td>\n",
              "      <td>NaN</td>\n",
              "    </tr>\n",
              "    <tr>\n",
              "      <th>2002</th>\n",
              "      <td>12.13</td>\n",
              "      <td>0.22</td>\n",
              "      <td>87.65</td>\n",
              "      <td>144.76</td>\n",
              "      <td>42.00</td>\n",
              "      <td>55.20</td>\n",
              "      <td>2.8</td>\n",
              "      <td>375000000.0</td>\n",
              "      <td>23860.0</td>\n",
              "      <td>0.01</td>\n",
              "      <td>...</td>\n",
              "      <td>NaN</td>\n",
              "      <td>NaN</td>\n",
              "      <td>NaN</td>\n",
              "      <td>NaN</td>\n",
              "      <td>1.200000e+09</td>\n",
              "      <td>1.300000e+09</td>\n",
              "      <td>5.500000e+09</td>\n",
              "      <td>1.800000e+00</td>\n",
              "      <td>NaN</td>\n",
              "      <td>27755775.0</td>\n",
              "    </tr>\n",
              "    <tr>\n",
              "      <th>2003</th>\n",
              "      <td>12.13</td>\n",
              "      <td>0.22</td>\n",
              "      <td>87.65</td>\n",
              "      <td>142.48</td>\n",
              "      <td>41.80</td>\n",
              "      <td>55.40</td>\n",
              "      <td>2.8</td>\n",
              "      <td>334800000.0</td>\n",
              "      <td>23860.0</td>\n",
              "      <td>0.01</td>\n",
              "      <td>...</td>\n",
              "      <td>NaN</td>\n",
              "      <td>2.000000e+08</td>\n",
              "      <td>5.500000e+08</td>\n",
              "      <td>NaN</td>\n",
              "      <td>1.200000e+09</td>\n",
              "      <td>1.300000e+09</td>\n",
              "      <td>NaN</td>\n",
              "      <td>1.800000e+00</td>\n",
              "      <td>NaN</td>\n",
              "      <td>28717213.0</td>\n",
              "    </tr>\n",
              "    <tr>\n",
              "      <th>2004</th>\n",
              "      <td>12.13</td>\n",
              "      <td>0.22</td>\n",
              "      <td>87.65</td>\n",
              "      <td>165.96</td>\n",
              "      <td>44.70</td>\n",
              "      <td>52.90</td>\n",
              "      <td>2.4</td>\n",
              "      <td>334800000.0</td>\n",
              "      <td>23860.0</td>\n",
              "      <td>0.01</td>\n",
              "      <td>...</td>\n",
              "      <td>NaN</td>\n",
              "      <td>2.000000e+08</td>\n",
              "      <td>5.500000e+08</td>\n",
              "      <td>NaN</td>\n",
              "      <td>9.800000e+07</td>\n",
              "      <td>1.007000e+09</td>\n",
              "      <td>8.000000e+09</td>\n",
              "      <td>1.800000e+00</td>\n",
              "      <td>Islamic republic</td>\n",
              "      <td>28513677.0</td>\n",
              "    </tr>\n",
              "    <tr>\n",
              "      <th>2005</th>\n",
              "      <td>12.13</td>\n",
              "      <td>0.22</td>\n",
              "      <td>87.65</td>\n",
              "      <td>163.07</td>\n",
              "      <td>44.70</td>\n",
              "      <td>52.90</td>\n",
              "      <td>2.4</td>\n",
              "      <td>540000000.0</td>\n",
              "      <td>23860.0</td>\n",
              "      <td>0.01</td>\n",
              "      <td>...</td>\n",
              "      <td>40.0</td>\n",
              "      <td>NaN</td>\n",
              "      <td>NaN</td>\n",
              "      <td>NaN</td>\n",
              "      <td>4.710000e+08</td>\n",
              "      <td>3.870000e+09</td>\n",
              "      <td>8.000000e+09</td>\n",
              "      <td>8.900000e+09</td>\n",
              "      <td>Islamic republic</td>\n",
              "      <td>29928987.0</td>\n",
              "    </tr>\n",
              "    <tr>\n",
              "      <th>2006</th>\n",
              "      <td>12.13</td>\n",
              "      <td>0.21</td>\n",
              "      <td>87.66</td>\n",
              "      <td>160.23</td>\n",
              "      <td>44.60</td>\n",
              "      <td>53.00</td>\n",
              "      <td>2.4</td>\n",
              "      <td>905000000.0</td>\n",
              "      <td>27200.0</td>\n",
              "      <td>0.01</td>\n",
              "      <td>...</td>\n",
              "      <td>40.0</td>\n",
              "      <td>NaN</td>\n",
              "      <td>NaN</td>\n",
              "      <td>NaN</td>\n",
              "      <td>4.710000e+08</td>\n",
              "      <td>3.870000e+09</td>\n",
              "      <td>8.000000e+09</td>\n",
              "      <td>4.500000e+09</td>\n",
              "      <td>Islamic republic</td>\n",
              "      <td>31056997.0</td>\n",
              "    </tr>\n",
              "    <tr>\n",
              "      <th>2007</th>\n",
              "      <td>12.13</td>\n",
              "      <td>0.21</td>\n",
              "      <td>87.66</td>\n",
              "      <td>157.43</td>\n",
              "      <td>44.60</td>\n",
              "      <td>53.00</td>\n",
              "      <td>2.4</td>\n",
              "      <td>754200000.0</td>\n",
              "      <td>27200.0</td>\n",
              "      <td>0.01</td>\n",
              "      <td>...</td>\n",
              "      <td>40.0</td>\n",
              "      <td>7.150000e+08</td>\n",
              "      <td>2.600000e+09</td>\n",
              "      <td>NaN</td>\n",
              "      <td>4.710000e+08</td>\n",
              "      <td>3.870000e+09</td>\n",
              "      <td>8.000000e+09</td>\n",
              "      <td>8.900000e+09</td>\n",
              "      <td>Islamic republic</td>\n",
              "      <td>31889923.0</td>\n",
              "    </tr>\n",
              "    <tr>\n",
              "      <th>2008</th>\n",
              "      <td>12.13</td>\n",
              "      <td>0.21</td>\n",
              "      <td>87.66</td>\n",
              "      <td>154.67</td>\n",
              "      <td>44.60</td>\n",
              "      <td>53.00</td>\n",
              "      <td>2.4</td>\n",
              "      <td>839000000.0</td>\n",
              "      <td>27200.0</td>\n",
              "      <td>0.01</td>\n",
              "      <td>...</td>\n",
              "      <td>40.0</td>\n",
              "      <td>7.150000e+08</td>\n",
              "      <td>2.600000e+09</td>\n",
              "      <td>NaN</td>\n",
              "      <td>2.740000e+08</td>\n",
              "      <td>3.823000e+09</td>\n",
              "      <td>8.000000e+09</td>\n",
              "      <td>2.775000e+09</td>\n",
              "      <td>Islamic republic</td>\n",
              "      <td>32738376.0</td>\n",
              "    </tr>\n",
              "    <tr>\n",
              "      <th>2011</th>\n",
              "      <td>58.10</td>\n",
              "      <td>2.10</td>\n",
              "      <td>39.80</td>\n",
              "      <td>NaN</td>\n",
              "      <td>NaN</td>\n",
              "      <td>NaN</td>\n",
              "      <td>NaN</td>\n",
              "      <td>NaN</td>\n",
              "      <td>21760.0</td>\n",
              "      <td>NaN</td>\n",
              "      <td>...</td>\n",
              "      <td>NaN</td>\n",
              "      <td>NaN</td>\n",
              "      <td>NaN</td>\n",
              "      <td>NaN</td>\n",
              "      <td>NaN</td>\n",
              "      <td>NaN</td>\n",
              "      <td>NaN</td>\n",
              "      <td>NaN</td>\n",
              "      <td>NaN</td>\n",
              "      <td>NaN</td>\n",
              "    </tr>\n",
              "    <tr>\n",
              "      <th>2012</th>\n",
              "      <td>NaN</td>\n",
              "      <td>NaN</td>\n",
              "      <td>NaN</td>\n",
              "      <td>NaN</td>\n",
              "      <td>NaN</td>\n",
              "      <td>NaN</td>\n",
              "      <td>NaN</td>\n",
              "      <td>NaN</td>\n",
              "      <td>32080.0</td>\n",
              "      <td>NaN</td>\n",
              "      <td>...</td>\n",
              "      <td>NaN</td>\n",
              "      <td>NaN</td>\n",
              "      <td>NaN</td>\n",
              "      <td>7.7</td>\n",
              "      <td>2.785000e+09</td>\n",
              "      <td>1.166000e+10</td>\n",
              "      <td>NaN</td>\n",
              "      <td>NaN</td>\n",
              "      <td>NaN</td>\n",
              "      <td>NaN</td>\n",
              "    </tr>\n",
              "    <tr>\n",
              "      <th>2013</th>\n",
              "      <td>NaN</td>\n",
              "      <td>NaN</td>\n",
              "      <td>NaN</td>\n",
              "      <td>NaN</td>\n",
              "      <td>NaN</td>\n",
              "      <td>NaN</td>\n",
              "      <td>NaN</td>\n",
              "      <td>NaN</td>\n",
              "      <td>NaN</td>\n",
              "      <td>0.03</td>\n",
              "      <td>...</td>\n",
              "      <td>NaN</td>\n",
              "      <td>4.910000e+09</td>\n",
              "      <td>5.037000e+09</td>\n",
              "      <td>NaN</td>\n",
              "      <td>2.679000e+09</td>\n",
              "      <td>1.219000e+10</td>\n",
              "      <td>NaN</td>\n",
              "      <td>NaN</td>\n",
              "      <td>NaN</td>\n",
              "      <td>NaN</td>\n",
              "    </tr>\n",
              "    <tr>\n",
              "      <th>2014</th>\n",
              "      <td>58.07</td>\n",
              "      <td>2.07</td>\n",
              "      <td>39.86</td>\n",
              "      <td>NaN</td>\n",
              "      <td>NaN</td>\n",
              "      <td>NaN</td>\n",
              "      <td>NaN</td>\n",
              "      <td>NaN</td>\n",
              "      <td>NaN</td>\n",
              "      <td>NaN</td>\n",
              "      <td>...</td>\n",
              "      <td>NaN</td>\n",
              "      <td>NaN</td>\n",
              "      <td>NaN</td>\n",
              "      <td>2.4</td>\n",
              "      <td>6.580000e+08</td>\n",
              "      <td>7.004000e+09</td>\n",
              "      <td>NaN</td>\n",
              "      <td>NaN</td>\n",
              "      <td>NaN</td>\n",
              "      <td>NaN</td>\n",
              "    </tr>\n",
              "    <tr>\n",
              "      <th>2015</th>\n",
              "      <td>58.10</td>\n",
              "      <td>2.10</td>\n",
              "      <td>39.80</td>\n",
              "      <td>115.08</td>\n",
              "      <td>41.47</td>\n",
              "      <td>22.41</td>\n",
              "      <td>54.0</td>\n",
              "      <td>NaN</td>\n",
              "      <td>21760.0</td>\n",
              "      <td>0.03</td>\n",
              "      <td>...</td>\n",
              "      <td>35.0</td>\n",
              "      <td>4.910000e+09</td>\n",
              "      <td>5.037000e+09</td>\n",
              "      <td>7.7</td>\n",
              "      <td>2.679000e+09</td>\n",
              "      <td>1.219000e+10</td>\n",
              "      <td>NaN</td>\n",
              "      <td>NaN</td>\n",
              "      <td>Islamic republic</td>\n",
              "      <td>NaN</td>\n",
              "    </tr>\n",
              "    <tr>\n",
              "      <th>2016</th>\n",
              "      <td>58.10</td>\n",
              "      <td>2.10</td>\n",
              "      <td>39.80</td>\n",
              "      <td>112.80</td>\n",
              "      <td>41.03</td>\n",
              "      <td>22.49</td>\n",
              "      <td>54.0</td>\n",
              "      <td>NaN</td>\n",
              "      <td>32080.0</td>\n",
              "      <td>0.04</td>\n",
              "      <td>...</td>\n",
              "      <td>35.0</td>\n",
              "      <td>1.700000e+09</td>\n",
              "      <td>6.639000e+09</td>\n",
              "      <td>1.2</td>\n",
              "      <td>6.580000e+08</td>\n",
              "      <td>7.004000e+09</td>\n",
              "      <td>NaN</td>\n",
              "      <td>NaN</td>\n",
              "      <td>NaN</td>\n",
              "      <td>33332025.0</td>\n",
              "    </tr>\n",
              "    <tr>\n",
              "      <th>2017</th>\n",
              "      <td>58.07</td>\n",
              "      <td>2.07</td>\n",
              "      <td>39.86</td>\n",
              "      <td>110.60</td>\n",
              "      <td>40.92</td>\n",
              "      <td>22.22</td>\n",
              "      <td>54.0</td>\n",
              "      <td>NaN</td>\n",
              "      <td>32080.0</td>\n",
              "      <td>1.00</td>\n",
              "      <td>...</td>\n",
              "      <td>35.0</td>\n",
              "      <td>1.992000e+09</td>\n",
              "      <td>6.636000e+09</td>\n",
              "      <td>2.4</td>\n",
              "      <td>6.192000e+08</td>\n",
              "      <td>6.160000e+09</td>\n",
              "      <td>NaN</td>\n",
              "      <td>NaN</td>\n",
              "      <td>NaN</td>\n",
              "      <td>34124811.0</td>\n",
              "    </tr>\n",
              "  </tbody>\n",
              "</table>\n",
              "<p>20 rows × 26 columns</p>\n",
              "</div>"
            ],
            "text/plain": [
              "                  Arable Land  Permanent Crops  Other Land Use  Infant Deaths per 1000 births  Percent of 0 to 14 years old  Percent of 15 to 64 years old  Percent of 65 and older  Electricity Produced in kWh  Irrigated Land in sq km  Percent of adults with HIV AIDS     ...      Unemployment Rate  Budget Revenues  Budget Expenditures  Industrial Production Growth Rate  Exports in USD  \\\n",
              "Country     Year                                                                                                                                                                                                                                                               ...                                                                                                                   \n",
              "Afghanistan 1990          NaN              NaN             NaN                            NaN                           NaN                            NaN                      NaN                          NaN                      NaN                              NaN     ...                    NaN              NaN                  NaN                                NaN             NaN   \n",
              "            1996          NaN              NaN             NaN                            NaN                           NaN                            NaN                      NaN                          NaN                      NaN                              NaN     ...                    NaN              NaN                  NaN                                NaN             NaN   \n",
              "            1998        12.13             0.22           87.65                            NaN                           NaN                            NaN                      NaN                          NaN                  23860.0                              NaN     ...                    NaN              NaN                  NaN                                NaN             NaN   \n",
              "            1999          NaN              NaN             NaN                            NaN                           NaN                            NaN                      NaN                          NaN                      NaN                             0.01     ...                    NaN              NaN                  NaN                                NaN             NaN   \n",
              "            2000          NaN              NaN             NaN                            NaN                           NaN                            NaN                      NaN                  375000000.0                      NaN                              NaN     ...                    NaN              NaN                  NaN                                NaN             NaN   \n",
              "            2001        12.13             0.22           87.65                            NaN                           NaN                            NaN                      NaN                  334800000.0                      NaN                             0.01     ...                    NaN              NaN                  NaN                                NaN    1.200000e+09   \n",
              "            2002        12.13             0.22           87.65                         144.76                         42.00                          55.20                      2.8                  375000000.0                  23860.0                             0.01     ...                    NaN              NaN                  NaN                                NaN    1.200000e+09   \n",
              "            2003        12.13             0.22           87.65                         142.48                         41.80                          55.40                      2.8                  334800000.0                  23860.0                             0.01     ...                    NaN     2.000000e+08         5.500000e+08                                NaN    1.200000e+09   \n",
              "            2004        12.13             0.22           87.65                         165.96                         44.70                          52.90                      2.4                  334800000.0                  23860.0                             0.01     ...                    NaN     2.000000e+08         5.500000e+08                                NaN    9.800000e+07   \n",
              "            2005        12.13             0.22           87.65                         163.07                         44.70                          52.90                      2.4                  540000000.0                  23860.0                             0.01     ...                   40.0              NaN                  NaN                                NaN    4.710000e+08   \n",
              "            2006        12.13             0.21           87.66                         160.23                         44.60                          53.00                      2.4                  905000000.0                  27200.0                             0.01     ...                   40.0              NaN                  NaN                                NaN    4.710000e+08   \n",
              "            2007        12.13             0.21           87.66                         157.43                         44.60                          53.00                      2.4                  754200000.0                  27200.0                             0.01     ...                   40.0     7.150000e+08         2.600000e+09                                NaN    4.710000e+08   \n",
              "            2008        12.13             0.21           87.66                         154.67                         44.60                          53.00                      2.4                  839000000.0                  27200.0                             0.01     ...                   40.0     7.150000e+08         2.600000e+09                                NaN    2.740000e+08   \n",
              "            2011        58.10             2.10           39.80                            NaN                           NaN                            NaN                      NaN                          NaN                  21760.0                              NaN     ...                    NaN              NaN                  NaN                                NaN             NaN   \n",
              "            2012          NaN              NaN             NaN                            NaN                           NaN                            NaN                      NaN                          NaN                  32080.0                              NaN     ...                    NaN              NaN                  NaN                                7.7    2.785000e+09   \n",
              "            2013          NaN              NaN             NaN                            NaN                           NaN                            NaN                      NaN                          NaN                      NaN                             0.03     ...                    NaN     4.910000e+09         5.037000e+09                                NaN    2.679000e+09   \n",
              "            2014        58.07             2.07           39.86                            NaN                           NaN                            NaN                      NaN                          NaN                      NaN                              NaN     ...                    NaN              NaN                  NaN                                2.4    6.580000e+08   \n",
              "            2015        58.10             2.10           39.80                         115.08                         41.47                          22.41                     54.0                          NaN                  21760.0                             0.03     ...                   35.0     4.910000e+09         5.037000e+09                                7.7    2.679000e+09   \n",
              "            2016        58.10             2.10           39.80                         112.80                         41.03                          22.49                     54.0                          NaN                  32080.0                             0.04     ...                   35.0     1.700000e+09         6.639000e+09                                1.2    6.580000e+08   \n",
              "            2017        58.07             2.07           39.86                         110.60                         40.92                          22.22                     54.0                          NaN                  32080.0                             1.00     ...                   35.0     1.992000e+09         6.636000e+09                                2.4    6.192000e+08   \n",
              "\n",
              "                  Imports in USD  External debt  Economic Aid received  Type of Government  Population  \n",
              "Country     Year                                                                                        \n",
              "Afghanistan 1990             NaN            NaN                    NaN                 NaN         NaN  \n",
              "            1996             NaN   5.500000e+09                    NaN                 NaN         NaN  \n",
              "            1998             NaN            NaN                    NaN                 NaN         NaN  \n",
              "            1999             NaN            NaN                    NaN                 NaN         NaN  \n",
              "            2000             NaN            NaN                    NaN                 NaN         NaN  \n",
              "            2001    1.300000e+09            NaN                    NaN                 NaN         NaN  \n",
              "            2002    1.300000e+09   5.500000e+09           1.800000e+00                 NaN  27755775.0  \n",
              "            2003    1.300000e+09            NaN           1.800000e+00                 NaN  28717213.0  \n",
              "            2004    1.007000e+09   8.000000e+09           1.800000e+00    Islamic republic  28513677.0  \n",
              "            2005    3.870000e+09   8.000000e+09           8.900000e+09    Islamic republic  29928987.0  \n",
              "            2006    3.870000e+09   8.000000e+09           4.500000e+09    Islamic republic  31056997.0  \n",
              "            2007    3.870000e+09   8.000000e+09           8.900000e+09    Islamic republic  31889923.0  \n",
              "            2008    3.823000e+09   8.000000e+09           2.775000e+09    Islamic republic  32738376.0  \n",
              "            2011             NaN            NaN                    NaN                 NaN         NaN  \n",
              "            2012    1.166000e+10            NaN                    NaN                 NaN         NaN  \n",
              "            2013    1.219000e+10            NaN                    NaN                 NaN         NaN  \n",
              "            2014    7.004000e+09            NaN                    NaN                 NaN         NaN  \n",
              "            2015    1.219000e+10            NaN                    NaN    Islamic republic         NaN  \n",
              "            2016    7.004000e+09            NaN                    NaN                 NaN  33332025.0  \n",
              "            2017    6.160000e+09            NaN                    NaN                 NaN  34124811.0  \n",
              "\n",
              "[20 rows x 26 columns]"
            ]
          },
          "metadata": {
            "tags": []
          },
          "execution_count": 94
        }
      ]
    },
    {
      "metadata": {
        "id": "9koV93ln0vDa",
        "colab_type": "text"
      },
      "cell_type": "markdown",
      "source": [
        "# Understand the Data"
      ]
    },
    {
      "metadata": {
        "id": "JyYRtcMJG8Pe",
        "colab_type": "code",
        "outputId": "e707200c-16a0-4f49-f33e-3a1b3779c1aa",
        "colab": {
          "base_uri": "https://localhost:8080/",
          "height": 493
        }
      },
      "cell_type": "code",
      "source": [
        "print('Percentage of NAs in this data:', \n",
        "      all_data.isnull().sum().sum() / (all_data.shape[0] * all_data.shape[1]))\n",
        "all_data.isnull().sum()"
      ],
      "execution_count": 0,
      "outputs": [
        {
          "output_type": "stream",
          "text": [
            "Percentage of NAs in this data: 0.4998662891300928\n"
          ],
          "name": "stdout"
        },
        {
          "output_type": "execute_result",
          "data": {
            "text/plain": [
              "Arable Land                          1633\n",
              "Permanent Crops                      1633\n",
              "Other Land Use                       1646\n",
              "Infant Deaths per 1000 births        2629\n",
              "Percent of 0 to 14 years old         2584\n",
              "Percent of 15 to 64 years old        2608\n",
              "Percent of 65 and older              2624\n",
              "Electricity Produced in kWh          2964\n",
              "Irrigated Land in sq km              2382\n",
              "Percent of adults with HIV AIDS      2857\n",
              "Literacy Rate                        2940\n",
              "GDP per capita                       1748\n",
              "GDP for Agriculture                  2231\n",
              "GDP for Industry                     2261\n",
              "GDP for Services                     2265\n",
              "Labor Force                          2234\n",
              "Unemployment Rate                    2394\n",
              "Budget Revenues                      2419\n",
              "Budget Expenditures                  2455\n",
              "Industrial Production Growth Rate    2793\n",
              "Exports in USD                       1995\n",
              "Imports in USD                       1994\n",
              "External debt                        2235\n",
              "Economic Aid received                3572\n",
              "Type of Government                   3825\n",
              "Population                           2632\n",
              "dtype: int64"
            ]
          },
          "metadata": {
            "tags": []
          },
          "execution_count": 95
        }
      ]
    },
    {
      "metadata": {
        "id": "ssZNdQQ9ejL-",
        "colab_type": "code",
        "outputId": "29c25cdd-8ab7-4fa7-a677-d88c781ff764",
        "colab": {
          "base_uri": "https://localhost:8080/",
          "height": 34
        }
      },
      "cell_type": "code",
      "source": [
        "all_data.shape"
      ],
      "execution_count": 0,
      "outputs": [
        {
          "output_type": "execute_result",
          "data": {
            "text/plain": [
              "(4890, 26)"
            ]
          },
          "metadata": {
            "tags": []
          },
          "execution_count": 96
        }
      ]
    },
    {
      "metadata": {
        "id": "YS324CjZ15mX",
        "colab_type": "text"
      },
      "cell_type": "markdown",
      "source": [
        "## Count the number of NAs in this DataFrame\n",
        "\n",
        "Each value in this table shows the number of values summed up across all features for each country and each year.  A '0' shows there were no values for this country/year."
      ]
    },
    {
      "metadata": {
        "id": "H_T6vPHofUZm",
        "colab_type": "code",
        "outputId": "56e703d1-2f9e-4d25-b19f-17f527ac5cd1",
        "colab": {
          "base_uri": "https://localhost:8080/",
          "height": 266
        }
      },
      "cell_type": "code",
      "source": [
        "nulls = pd.DataFrame(all_data.count(axis = 1))\n",
        "nulls.reset_index(level = 'Year', inplace = True)\n",
        "pivoted_nulls = nulls.pivot_table(index = nulls.index, \n",
        "                                  columns = 'Year', aggfunc = 'first')\n",
        "pivoted_nulls.fillna(0, inplace = True)\n",
        "pivoted_nulls.iloc[:, 12:].head()"
      ],
      "execution_count": 0,
      "outputs": [
        {
          "output_type": "execute_result",
          "data": {
            "text/html": [
              "<div>\n",
              "<style scoped>\n",
              "    .dataframe tbody tr th:only-of-type {\n",
              "        vertical-align: middle;\n",
              "    }\n",
              "\n",
              "    .dataframe tbody tr th {\n",
              "        vertical-align: top;\n",
              "    }\n",
              "\n",
              "    .dataframe thead tr th {\n",
              "        text-align: left;\n",
              "    }\n",
              "\n",
              "    .dataframe thead tr:last-of-type th {\n",
              "        text-align: right;\n",
              "    }\n",
              "</style>\n",
              "<table border=\"1\" class=\"dataframe\">\n",
              "  <thead>\n",
              "    <tr>\n",
              "      <th></th>\n",
              "      <th colspan=\"16\" halign=\"left\">0</th>\n",
              "    </tr>\n",
              "    <tr>\n",
              "      <th>Year</th>\n",
              "      <th>2002</th>\n",
              "      <th>2003</th>\n",
              "      <th>2004</th>\n",
              "      <th>2005</th>\n",
              "      <th>2006</th>\n",
              "      <th>2007</th>\n",
              "      <th>2008</th>\n",
              "      <th>2009</th>\n",
              "      <th>2010</th>\n",
              "      <th>2011</th>\n",
              "      <th>2012</th>\n",
              "      <th>2013</th>\n",
              "      <th>2014</th>\n",
              "      <th>2015</th>\n",
              "      <th>2016</th>\n",
              "      <th>2017</th>\n",
              "    </tr>\n",
              "    <tr>\n",
              "      <th>Country</th>\n",
              "      <th></th>\n",
              "      <th></th>\n",
              "      <th></th>\n",
              "      <th></th>\n",
              "      <th></th>\n",
              "      <th></th>\n",
              "      <th></th>\n",
              "      <th></th>\n",
              "      <th></th>\n",
              "      <th></th>\n",
              "      <th></th>\n",
              "      <th></th>\n",
              "      <th></th>\n",
              "      <th></th>\n",
              "      <th></th>\n",
              "      <th></th>\n",
              "    </tr>\n",
              "  </thead>\n",
              "  <tbody>\n",
              "    <tr>\n",
              "      <th>Afghanistan</th>\n",
              "      <td>21.0</td>\n",
              "      <td>22.0</td>\n",
              "      <td>24.0</td>\n",
              "      <td>23.0</td>\n",
              "      <td>23.0</td>\n",
              "      <td>25.0</td>\n",
              "      <td>25.0</td>\n",
              "      <td>0.0</td>\n",
              "      <td>0.0</td>\n",
              "      <td>4.0</td>\n",
              "      <td>9.0</td>\n",
              "      <td>7.0</td>\n",
              "      <td>10.0</td>\n",
              "      <td>22.0</td>\n",
              "      <td>22.0</td>\n",
              "      <td>22.0</td>\n",
              "    </tr>\n",
              "    <tr>\n",
              "      <th>Albania</th>\n",
              "      <td>24.0</td>\n",
              "      <td>24.0</td>\n",
              "      <td>24.0</td>\n",
              "      <td>24.0</td>\n",
              "      <td>24.0</td>\n",
              "      <td>24.0</td>\n",
              "      <td>24.0</td>\n",
              "      <td>0.0</td>\n",
              "      <td>0.0</td>\n",
              "      <td>3.0</td>\n",
              "      <td>2.0</td>\n",
              "      <td>9.0</td>\n",
              "      <td>13.0</td>\n",
              "      <td>23.0</td>\n",
              "      <td>23.0</td>\n",
              "      <td>23.0</td>\n",
              "    </tr>\n",
              "    <tr>\n",
              "      <th>Algeria</th>\n",
              "      <td>26.0</td>\n",
              "      <td>26.0</td>\n",
              "      <td>26.0</td>\n",
              "      <td>26.0</td>\n",
              "      <td>26.0</td>\n",
              "      <td>25.0</td>\n",
              "      <td>25.0</td>\n",
              "      <td>0.0</td>\n",
              "      <td>0.0</td>\n",
              "      <td>3.0</td>\n",
              "      <td>2.0</td>\n",
              "      <td>6.0</td>\n",
              "      <td>16.0</td>\n",
              "      <td>23.0</td>\n",
              "      <td>23.0</td>\n",
              "      <td>23.0</td>\n",
              "    </tr>\n",
              "    <tr>\n",
              "      <th>American Samoa</th>\n",
              "      <td>15.0</td>\n",
              "      <td>15.0</td>\n",
              "      <td>15.0</td>\n",
              "      <td>15.0</td>\n",
              "      <td>13.0</td>\n",
              "      <td>13.0</td>\n",
              "      <td>13.0</td>\n",
              "      <td>0.0</td>\n",
              "      <td>0.0</td>\n",
              "      <td>4.0</td>\n",
              "      <td>7.0</td>\n",
              "      <td>6.0</td>\n",
              "      <td>3.0</td>\n",
              "      <td>17.0</td>\n",
              "      <td>19.0</td>\n",
              "      <td>19.0</td>\n",
              "    </tr>\n",
              "    <tr>\n",
              "      <th>Andorra</th>\n",
              "      <td>16.0</td>\n",
              "      <td>16.0</td>\n",
              "      <td>16.0</td>\n",
              "      <td>16.0</td>\n",
              "      <td>16.0</td>\n",
              "      <td>17.0</td>\n",
              "      <td>17.0</td>\n",
              "      <td>1.0</td>\n",
              "      <td>1.0</td>\n",
              "      <td>10.0</td>\n",
              "      <td>7.0</td>\n",
              "      <td>1.0</td>\n",
              "      <td>6.0</td>\n",
              "      <td>18.0</td>\n",
              "      <td>22.0</td>\n",
              "      <td>22.0</td>\n",
              "    </tr>\n",
              "  </tbody>\n",
              "</table>\n",
              "</div>"
            ],
            "text/plain": [
              "                   0                                                                                      \n",
              "Year            2002  2003  2004  2005  2006  2007  2008 2009 2010  2011 2012 2013  2014  2015  2016  2017\n",
              "Country                                                                                                   \n",
              "Afghanistan     21.0  22.0  24.0  23.0  23.0  25.0  25.0  0.0  0.0   4.0  9.0  7.0  10.0  22.0  22.0  22.0\n",
              "Albania         24.0  24.0  24.0  24.0  24.0  24.0  24.0  0.0  0.0   3.0  2.0  9.0  13.0  23.0  23.0  23.0\n",
              "Algeria         26.0  26.0  26.0  26.0  26.0  25.0  25.0  0.0  0.0   3.0  2.0  6.0  16.0  23.0  23.0  23.0\n",
              "American Samoa  15.0  15.0  15.0  15.0  13.0  13.0  13.0  0.0  0.0   4.0  7.0  6.0   3.0  17.0  19.0  19.0\n",
              "Andorra         16.0  16.0  16.0  16.0  16.0  17.0  17.0  1.0  1.0  10.0  7.0  1.0   6.0  18.0  22.0  22.0"
            ]
          },
          "metadata": {
            "tags": []
          },
          "execution_count": 97
        }
      ]
    },
    {
      "metadata": {
        "id": "anjpCN012TUd",
        "colab_type": "text"
      },
      "cell_type": "markdown",
      "source": [
        "## Corresponding heatmap of the NA values\n",
        "\n",
        "The darker regions show less values.  The lighter regions show more values."
      ]
    },
    {
      "metadata": {
        "id": "2nda3CJpfUcO",
        "colab_type": "code",
        "outputId": "85249cfe-4469-4778-99e2-eed15b843c33",
        "colab": {
          "base_uri": "https://localhost:8080/",
          "height": 493
        }
      },
      "cell_type": "code",
      "source": [
        "sns.set()\n",
        "plt.figure(figsize = (10, 7))\n",
        "ax = sns.heatmap(pivoted_nulls)\n",
        "ax.set_yticklabels([])\n",
        "ax.set_title('Number of non-zero values aggregated across features');"
      ],
      "execution_count": 0,
      "outputs": [
        {
          "output_type": "display_data",
          "data": {
            "image/png": "[encoded data removed]",
            "text/plain": [
              "<matplotlib.figure.Figure at 0x7f69a339f5c0>"
            ]
          },
          "metadata": {
            "tags": []
          }
        }
      ]
    },
    {
      "metadata": {
        "id": "U6g6RjVA1N_l",
        "colab_type": "text"
      },
      "cell_type": "markdown",
      "source": [
        "## We need to interpolate\n",
        "\n",
        "The above graph tells us that we have a lot of NAs from 2009 through 2013.  This means we can compare countries by averaging the feature values around the year 2003 vs the same countries around the year 2016.\n",
        "\n",
        "Let's get the average of all features for all countries for 2002 - 2005 (start DataFrame) and 2015 - 2017 (stop DataFrame).  Maybe this will work.\n"
      ]
    },
    {
      "metadata": {
        "id": "Vi27whTNfUsF",
        "colab_type": "code",
        "outputId": "d59610aa-4f51-4464-dff6-793eef05342d",
        "colab": {
          "base_uri": "https://localhost:8080/",
          "height": 386
        }
      },
      "cell_type": "code",
      "source": [
        "# mask = all_data.index.get_level_values(1).isin(['2002', '2003', '2004'])\n",
        "# start = pd.DataFrame(all_data[mask].mean(axis = 1))\n",
        "# mask = all_data.index.get_level_values(1).isin(['2015', '2016', '2017'])\n",
        "# pd.DataFrame(all_data[mask]).mean(axis = 1)\n",
        "\n",
        "idx = pd.IndexSlice\n",
        "start = all_data.loc[idx[:, 2002:2004], idx[:]].groupby(level = 0).mean()\n",
        "stop = all_data.loc[idx[:, 2015:2017], idx[:]].groupby(level = 0).mean()\n",
        "stop.head()"
      ],
      "execution_count": 0,
      "outputs": [
        {
          "output_type": "execute_result",
          "data": {
            "text/html": [
              "<div>\n",
              "<style scoped>\n",
              "    .dataframe tbody tr th:only-of-type {\n",
              "        vertical-align: middle;\n",
              "    }\n",
              "\n",
              "    .dataframe tbody tr th {\n",
              "        vertical-align: top;\n",
              "    }\n",
              "\n",
              "    .dataframe thead th {\n",
              "        text-align: right;\n",
              "    }\n",
              "</style>\n",
              "<table border=\"1\" class=\"dataframe\">\n",
              "  <thead>\n",
              "    <tr style=\"text-align: right;\">\n",
              "      <th></th>\n",
              "      <th>Arable Land</th>\n",
              "      <th>Permanent Crops</th>\n",
              "      <th>Other Land Use</th>\n",
              "      <th>Infant Deaths per 1000 births</th>\n",
              "      <th>Percent of 0 to 14 years old</th>\n",
              "      <th>Percent of 15 to 64 years old</th>\n",
              "      <th>Percent of 65 and older</th>\n",
              "      <th>Electricity Produced in kWh</th>\n",
              "      <th>Irrigated Land in sq km</th>\n",
              "      <th>Percent of adults with HIV AIDS</th>\n",
              "      <th>...</th>\n",
              "      <th>Labor Force</th>\n",
              "      <th>Unemployment Rate</th>\n",
              "      <th>Budget Revenues</th>\n",
              "      <th>Budget Expenditures</th>\n",
              "      <th>Industrial Production Growth Rate</th>\n",
              "      <th>Exports in USD</th>\n",
              "      <th>Imports in USD</th>\n",
              "      <th>External debt</th>\n",
              "      <th>Economic Aid received</th>\n",
              "      <th>Population</th>\n",
              "    </tr>\n",
              "    <tr>\n",
              "      <th>Country</th>\n",
              "      <th></th>\n",
              "      <th></th>\n",
              "      <th></th>\n",
              "      <th></th>\n",
              "      <th></th>\n",
              "      <th></th>\n",
              "      <th></th>\n",
              "      <th></th>\n",
              "      <th></th>\n",
              "      <th></th>\n",
              "      <th></th>\n",
              "      <th></th>\n",
              "      <th></th>\n",
              "      <th></th>\n",
              "      <th></th>\n",
              "      <th></th>\n",
              "      <th></th>\n",
              "      <th></th>\n",
              "      <th></th>\n",
              "      <th></th>\n",
              "      <th></th>\n",
              "    </tr>\n",
              "  </thead>\n",
              "  <tbody>\n",
              "    <tr>\n",
              "      <th>Afghanistan</th>\n",
              "      <td>58.090000</td>\n",
              "      <td>2.090000</td>\n",
              "      <td>39.820000</td>\n",
              "      <td>112.826667</td>\n",
              "      <td>41.140000</td>\n",
              "      <td>22.373333</td>\n",
              "      <td>54.0</td>\n",
              "      <td>NaN</td>\n",
              "      <td>28640.000000</td>\n",
              "      <td>0.356667</td>\n",
              "      <td>...</td>\n",
              "      <td>7.826000e+06</td>\n",
              "      <td>35.000000</td>\n",
              "      <td>2.867333e+09</td>\n",
              "      <td>6.104000e+09</td>\n",
              "      <td>3.766667</td>\n",
              "      <td>1.318733e+09</td>\n",
              "      <td>8.451333e+09</td>\n",
              "      <td>NaN</td>\n",
              "      <td>NaN</td>\n",
              "      <td>33728418.0</td>\n",
              "    </tr>\n",
              "    <tr>\n",
              "      <th>Albania</th>\n",
              "      <td>43.486667</td>\n",
              "      <td>28.263333</td>\n",
              "      <td>28.250000</td>\n",
              "      <td>12.316667</td>\n",
              "      <td>18.400000</td>\n",
              "      <td>18.076667</td>\n",
              "      <td>54.0</td>\n",
              "      <td>NaN</td>\n",
              "      <td>2624.666667</td>\n",
              "      <td>0.060000</td>\n",
              "      <td>...</td>\n",
              "      <td>1.258333e+06</td>\n",
              "      <td>16.833333</td>\n",
              "      <td>3.264333e+09</td>\n",
              "      <td>3.769333e+09</td>\n",
              "      <td>2.633333</td>\n",
              "      <td>1.358267e+09</td>\n",
              "      <td>4.107667e+09</td>\n",
              "      <td>8.306333e+09</td>\n",
              "      <td>NaN</td>\n",
              "      <td>3043290.5</td>\n",
              "    </tr>\n",
              "    <tr>\n",
              "      <th>Algeria</th>\n",
              "      <td>17.333333</td>\n",
              "      <td>0.673333</td>\n",
              "      <td>81.933333</td>\n",
              "      <td>20.293333</td>\n",
              "      <td>29.040000</td>\n",
              "      <td>15.963333</td>\n",
              "      <td>54.0</td>\n",
              "      <td>NaN</td>\n",
              "      <td>8331.333333</td>\n",
              "      <td>0.380000</td>\n",
              "      <td>...</td>\n",
              "      <td>1.208000e+07</td>\n",
              "      <td>10.766667</td>\n",
              "      <td>5.808667e+10</td>\n",
              "      <td>7.787333e+10</td>\n",
              "      <td>3.566667</td>\n",
              "      <td>4.168667e+10</td>\n",
              "      <td>5.326667e+10</td>\n",
              "      <td>5.034333e+09</td>\n",
              "      <td>NaN</td>\n",
              "      <td>40616577.0</td>\n",
              "    </tr>\n",
              "    <tr>\n",
              "      <th>American Samoa</th>\n",
              "      <td>22.633333</td>\n",
              "      <td>81.500000</td>\n",
              "      <td>0.000000</td>\n",
              "      <td>9.496667</td>\n",
              "      <td>26.256667</td>\n",
              "      <td>19.053333</td>\n",
              "      <td>54.0</td>\n",
              "      <td>NaN</td>\n",
              "      <td>0.000000</td>\n",
              "      <td>NaN</td>\n",
              "      <td>...</td>\n",
              "      <td>1.609000e+04</td>\n",
              "      <td>29.800000</td>\n",
              "      <td>2.412000e+08</td>\n",
              "      <td>2.437000e+08</td>\n",
              "      <td>NaN</td>\n",
              "      <td>4.590000e+08</td>\n",
              "      <td>5.640000e+08</td>\n",
              "      <td>NaN</td>\n",
              "      <td>NaN</td>\n",
              "      <td>52849.0</td>\n",
              "    </tr>\n",
              "    <tr>\n",
              "      <th>Andorra</th>\n",
              "      <td>43.756667</td>\n",
              "      <td>34.000000</td>\n",
              "      <td>22.233333</td>\n",
              "      <td>3.616667</td>\n",
              "      <td>14.726667</td>\n",
              "      <td>9.526667</td>\n",
              "      <td>54.0</td>\n",
              "      <td>NaN</td>\n",
              "      <td>0.000000</td>\n",
              "      <td>NaN</td>\n",
              "      <td>...</td>\n",
              "      <td>3.729000e+04</td>\n",
              "      <td>3.900000</td>\n",
              "      <td>1.310000e+09</td>\n",
              "      <td>1.380667e+09</td>\n",
              "      <td>NaN</td>\n",
              "      <td>7.290333e+07</td>\n",
              "      <td>1.372333e+09</td>\n",
              "      <td>0.000000e+00</td>\n",
              "      <td>NaN</td>\n",
              "      <td>81312.5</td>\n",
              "    </tr>\n",
              "  </tbody>\n",
              "</table>\n",
              "<p>5 rows × 25 columns</p>\n",
              "</div>"
            ],
            "text/plain": [
              "                Arable Land  Permanent Crops  Other Land Use  Infant Deaths per 1000 births  Percent of 0 to 14 years old  Percent of 15 to 64 years old  Percent of 65 and older  Electricity Produced in kWh  Irrigated Land in sq km  Percent of adults with HIV AIDS     ...       Labor Force  Unemployment Rate  Budget Revenues  Budget Expenditures  Industrial Production Growth Rate  \\\n",
              "Country                                                                                                                                                                                                                                                                      ...                                                                                                                 \n",
              "Afghanistan       58.090000         2.090000       39.820000                     112.826667                     41.140000                      22.373333                     54.0                          NaN             28640.000000                         0.356667     ...      7.826000e+06          35.000000     2.867333e+09         6.104000e+09                           3.766667   \n",
              "Albania           43.486667        28.263333       28.250000                      12.316667                     18.400000                      18.076667                     54.0                          NaN              2624.666667                         0.060000     ...      1.258333e+06          16.833333     3.264333e+09         3.769333e+09                           2.633333   \n",
              "Algeria           17.333333         0.673333       81.933333                      20.293333                     29.040000                      15.963333                     54.0                          NaN              8331.333333                         0.380000     ...      1.208000e+07          10.766667     5.808667e+10         7.787333e+10                           3.566667   \n",
              "American Samoa    22.633333        81.500000        0.000000                       9.496667                     26.256667                      19.053333                     54.0                          NaN                 0.000000                              NaN     ...      1.609000e+04          29.800000     2.412000e+08         2.437000e+08                                NaN   \n",
              "Andorra           43.756667        34.000000       22.233333                       3.616667                     14.726667                       9.526667                     54.0                          NaN                 0.000000                              NaN     ...      3.729000e+04           3.900000     1.310000e+09         1.380667e+09                                NaN   \n",
              "\n",
              "                Exports in USD  Imports in USD  External debt  Economic Aid received  Population  \n",
              "Country                                                                                           \n",
              "Afghanistan       1.318733e+09    8.451333e+09            NaN                    NaN  33728418.0  \n",
              "Albania           1.358267e+09    4.107667e+09   8.306333e+09                    NaN   3043290.5  \n",
              "Algeria           4.168667e+10    5.326667e+10   5.034333e+09                    NaN  40616577.0  \n",
              "American Samoa    4.590000e+08    5.640000e+08            NaN                    NaN     52849.0  \n",
              "Andorra           7.290333e+07    1.372333e+09   0.000000e+00                    NaN     81312.5  \n",
              "\n",
              "[5 rows x 25 columns]"
            ]
          },
          "metadata": {
            "tags": []
          },
          "execution_count": 99
        }
      ]
    },
    {
      "metadata": {
        "id": "fiPb_p8k3JlM",
        "colab_type": "text"
      },
      "cell_type": "markdown",
      "source": [
        "## Result of Interpolating across 2002-2005, and 2015-2017\n",
        "\n",
        "The average across 2002-2005, and 2015-2017 still does not provide enough data.\n",
        "\n",
        "With this interpolation, we still have values for only 98 countries.  We need to do some overall interpolation."
      ]
    },
    {
      "metadata": {
        "id": "79A4Aoiq4Fj9",
        "colab_type": "text"
      },
      "cell_type": "markdown",
      "source": [
        "## Let's do an overall interpolation\n",
        "\n",
        "We will limit the interpolation to no more than 5 empty cells. We will do linear interpolation.\n",
        "\n",
        "Countries are slow-moving creatures, so this should be fine."
      ]
    },
    {
      "metadata": {
        "id": "vvLO83mE8sOz",
        "colab_type": "code",
        "outputId": "dd739b70-2113-4e40-b7f1-5aa33af1db74",
        "colab": {
          "base_uri": "https://localhost:8080/",
          "height": 51
        }
      },
      "cell_type": "code",
      "source": [
        "print(start.isnull().sum().sum(), stop.isnull().sum().sum())\n",
        "stop.interpolate(method = 'linear', limit = 5, inplace = True)\n",
        "start.interpolate(method = 'linear', limit = 5, inplace = True)\n",
        "print(start.isnull().sum().sum(), stop.isnull().sum().sum())"
      ],
      "execution_count": 0,
      "outputs": [
        {
          "output_type": "stream",
          "text": [
            "1393 1400\n",
            "8 532\n"
          ],
          "name": "stdout"
        }
      ]
    },
    {
      "metadata": {
        "id": "C0xnqqKb4WMK",
        "colab_type": "text"
      },
      "cell_type": "markdown",
      "source": [
        "## Result of overall interpolation\n",
        "\n",
        "With overall interpolation, we have values for 248 countries.\n",
        "So go with interpolation for now.\n",
        "\n",
        "We have limited interpolation to no more than 5 empty cells,\n",
        "and we have made it linear.\n",
        "\n",
        "Countries are slow-moving creatures, so this should be fine."
      ]
    },
    {
      "metadata": {
        "id": "ssefTfee4mL_",
        "colab_type": "text"
      },
      "cell_type": "markdown",
      "source": [
        "# Drop columns/rows you cannot use\n",
        "\n",
        "These would be columns which you don't think are useful."
      ]
    },
    {
      "metadata": {
        "id": "unNo-BqO5Li2",
        "colab_type": "text"
      },
      "cell_type": "markdown",
      "source": [
        "## Keep only the columns you want for Health/Wealth\n",
        "\n",
        "These are the health features:\n",
        "  * 'Infant Deaths per 1000 births', 'Percent of adults with HIV AIDS'\n",
        "\n",
        "These are the wealth features:\n",
        "  * 'GDP per capita'\n",
        "  * 'Unemployment Rate'\n",
        "  * 'Budget Revenues'\n",
        "  * 'Budget Expenditures'\n",
        "  * 'Industrial Production Growth Rate'\n",
        "  * 'Exports in USD'\n",
        "  * 'Imports in USD'\n",
        "  * 'External debt'\n"
      ]
    },
    {
      "metadata": {
        "id": "LMGog7Bg_LDU",
        "colab_type": "code",
        "colab": {}
      },
      "cell_type": "code",
      "source": [
        "start_health = start[['Infant Deaths per 1000 births', \n",
        "                     'Percent of adults with HIV AIDS']].copy()\n",
        "stop_health  = stop[['Infant Deaths per 1000 births',\n",
        "                    'Percent of adults with HIV AIDS']].copy()\n",
        "start_wealth = start[['GDP per capita', 'Unemployment Rate', \n",
        "                     'Budget Revenues', 'Budget Expenditures',\n",
        "                     'Industrial Production Growth Rate',\n",
        "                     'Exports in USD', 'Imports in USD', 'External debt',\n",
        "                     'Population']].copy()\n",
        "stop_wealth = stop[['GDP per capita', 'Unemployment Rate', \n",
        "                     'Budget Revenues', 'Budget Expenditures',\n",
        "                     'Industrial Production Growth Rate',\n",
        "                     'Exports in USD', 'Imports in USD', 'External debt',\n",
        "                     'Population']].copy()"
      ],
      "execution_count": 0,
      "outputs": []
    },
    {
      "metadata": {
        "id": "o5enUsGZ_LF_",
        "colab_type": "code",
        "colab": {}
      },
      "cell_type": "code",
      "source": [
        "start_wealth['Budget Revenues per capita'] = start['Budget Revenues'] \\\n",
        "                                              / start['Population']\n",
        "start_wealth['Budget Expenditures per capita'] = start['Budget Expenditures'] \\\n",
        "                                                    / start['Population']\n",
        "start_wealth['Exports in USD per capita'] = start['Exports in USD'] \\\n",
        "                                              / start['Population']\n",
        "start_wealth['Imports in USD per capita'] = start['Imports in USD'] \\\n",
        "                                              / start['Population']\n",
        "start_wealth['External debt per capita'] = start['External debt'] \\\n",
        "                                            / start['Population']\n",
        "\n",
        "stop_wealth['Budget Revenues per capita'] = stop['Budget Revenues'] \\\n",
        "                                              / stop['Population']\n",
        "stop_wealth['Budget Expenditures per capita'] = stop['Budget Expenditures'] \\\n",
        "                                                    / stop['Population']\n",
        "stop_wealth['Exports in USD per capita'] = stop['Exports in USD'] \\\n",
        "                                              / stop['Population']\n",
        "stop_wealth['Imports in USD per capita'] = stop['Imports in USD'] \\\n",
        "                                              / stop['Population']\n",
        "stop_wealth['External debt per capita'] = stop['External debt'] \\\n",
        "                                            / stop['Population']"
      ],
      "execution_count": 0,
      "outputs": []
    },
    {
      "metadata": {
        "id": "LXTpe8ZN5eyH",
        "colab_type": "text"
      },
      "cell_type": "markdown",
      "source": [
        "## Drop rows that have any NAs in them\n",
        "\n",
        "\n",
        "If even after interpolating over 5 empty spaces, we still have such rows, we should not use them."
      ]
    },
    {
      "metadata": {
        "id": "U8dK-whnqbMm",
        "colab_type": "code",
        "outputId": "7f39c248-3066-40ce-fb0d-6a3807dca822",
        "colab": {
          "base_uri": "https://localhost:8080/",
          "height": 51
        }
      },
      "cell_type": "code",
      "source": [
        "# Check the shape of our dataframes\n",
        "print(start_health.dropna(subset = ['Infant Deaths per 1000 births', \\\n",
        "                                    'Percent of adults with HIV AIDS'], \\\n",
        "                   how = 'any').shape)\n",
        "print(stop_health.dropna(subset = ['Infant Deaths per 1000 births', \\\n",
        "                                     'Percent of adults with HIV AIDS'], \\\n",
        "                   how = 'any').shape)\n"
      ],
      "execution_count": 0,
      "outputs": [
        {
          "output_type": "stream",
          "text": [
            "(268, 2)\n",
            "(257, 2)\n"
          ],
          "name": "stdout"
        }
      ]
    },
    {
      "metadata": {
        "id": "iFSKkItGw7IJ",
        "colab_type": "code",
        "colab": {}
      },
      "cell_type": "code",
      "source": [
        "start_health['Percentage of Infant Deaths'] = \\\n",
        "  start_health['Infant Deaths per 1000 births'] / 1000.0\n",
        "stop_health['Percentage of Infant Deaths'] = \\\n",
        "  stop_health['Infant Deaths per 1000 births'] / 1000.0\n",
        "start_health.drop(labels = 'Infant Deaths per 1000 births',\n",
        "                  axis = 1, inplace = True)\n",
        "stop_health.drop(labels = 'Infant Deaths per 1000 births',\n",
        "                 axis = 1, inplace = True)"
      ],
      "execution_count": 0,
      "outputs": []
    },
    {
      "metadata": {
        "id": "xJEsMGRMwS1l",
        "colab_type": "code",
        "colab": {}
      },
      "cell_type": "code",
      "source": [
        "# Drop any rows that have NULLs in them\n",
        "start_health.dropna(subset = ['Percentage of Infant Deaths', \\\n",
        "                               'Percent of adults with HIV AIDS'], \\\n",
        "                   how = 'any', inplace = True)\n",
        "stop_health.dropna(subset = ['Percentage of Infant Deaths', \\\n",
        "                               'Percent of adults with HIV AIDS'], \\\n",
        "                   how = 'any', inplace = True)"
      ],
      "execution_count": 0,
      "outputs": []
    },
    {
      "metadata": {
        "id": "X5fwHU707cts",
        "colab_type": "text"
      },
      "cell_type": "markdown",
      "source": [
        "## Drop Countries that are not in both the Health and Wealth DataFrames"
      ]
    },
    {
      "metadata": {
        "id": "gD1UQuuJzaRA",
        "colab_type": "code",
        "outputId": "ea4995c0-8c31-4c53-8f97-29f226c48f3a",
        "colab": {
          "base_uri": "https://localhost:8080/",
          "height": 51
        }
      },
      "cell_type": "code",
      "source": [
        "# Since stop_health has the lowest number of countries,\n",
        "# limit all dataframes to those countries.\n",
        "def limit_to_df_rows(df, limit_df):\n",
        "  limit_df.reset_index(inplace = True)\n",
        "  df.reset_index(inplace = True)\n",
        "  df = df[df.Country.isin(limit_df.Country)]\n",
        "  limit_df.set_index('Country', inplace = True)\n",
        "  df.set_index('Country', inplace = True)\n",
        "  return df\n",
        "\n",
        "print(start_health.shape)\n",
        "start_health = limit_to_df_rows(start_health, stop_health)\n",
        "print(start_health.shape)\n",
        "start_health.head()\n",
        "start_wealth = limit_to_df_rows(start_wealth, stop_health)\n",
        "stop_wealth  = limit_to_df_rows(stop_wealth, stop_health)"
      ],
      "execution_count": 0,
      "outputs": [
        {
          "output_type": "stream",
          "text": [
            "(268, 2)\n",
            "(248, 2)\n"
          ],
          "name": "stdout"
        }
      ]
    },
    {
      "metadata": {
        "id": "72dnzKCxbjNG",
        "colab_type": "code",
        "colab": {}
      },
      "cell_type": "code",
      "source": [
        "# These will be used later to compare against the Change in GDP.\n",
        "# Maybe the change in GDP is related to one or more of these variables.\n",
        "save_start_wealth = start_wealth.copy()\n",
        "save_stop_wealth = stop_wealth.copy()\n",
        "\n",
        "start_wealth.drop(['Budget Revenues', 'Budget Expenditures', \\\n",
        "                   'Exports in USD', 'Imports in USD', \\\n",
        "                   'External debt'], axis = 1, inplace = True)\n",
        "\n",
        "stop_wealth.drop(['Budget Revenues', 'Budget Expenditures', \\\n",
        "                   'Exports in USD', 'Imports in USD', \\\n",
        "                   'External debt'], axis = 1, inplace = True)"
      ],
      "execution_count": 0,
      "outputs": []
    },
    {
      "metadata": {
        "id": "OdKUMYQz_LIi",
        "colab_type": "code",
        "outputId": "c1e85645-09cb-4a30-e165-1ee80a58edc7",
        "colab": {
          "base_uri": "https://localhost:8080/",
          "height": 34
        }
      },
      "cell_type": "code",
      "source": [
        "start_wealth.dropna(how = 'any', inplace = True)\n",
        "stop_wealth.dropna(how = 'any', inplace = True)\n",
        "print(start_wealth.shape, stop_wealth.shape)"
      ],
      "execution_count": 0,
      "outputs": [
        {
          "output_type": "stream",
          "text": [
            "(249, 9) (256, 9)\n"
          ],
          "name": "stdout"
        }
      ]
    },
    {
      "metadata": {
        "id": "JGw4s23Y_LLc",
        "colab_type": "code",
        "outputId": "3197ff34-fdeb-445b-a03c-031589957148",
        "colab": {
          "base_uri": "https://localhost:8080/",
          "height": 34
        }
      },
      "cell_type": "code",
      "source": [
        "stop_wealth = limit_to_df_rows(stop_wealth, start_wealth)\n",
        "print(start_wealth.shape, stop_wealth.shape)"
      ],
      "execution_count": 0,
      "outputs": [
        {
          "output_type": "stream",
          "text": [
            "(249, 9) (249, 9)\n"
          ],
          "name": "stdout"
        }
      ]
    },
    {
      "metadata": {
        "id": "WaKLjrcB_LOB",
        "colab_type": "code",
        "outputId": "f9572198-0c32-4ec6-bbd6-9a4439cb7843",
        "colab": {
          "base_uri": "https://localhost:8080/",
          "height": 235
        }
      },
      "cell_type": "code",
      "source": [
        "health_data = pd.DataFrame( \\\n",
        "                     start_health['Percent of adults with HIV AIDS'] + \\\n",
        "                     start_health['Percentage of Infant Deaths'], \\\n",
        "                     columns = ['2002 Health'])\n",
        "health_data['2017 Health'] = stop_health['Percent of adults with HIV AIDS'] + \\\n",
        "                              start_health['Percentage of Infant Deaths']\n",
        "wealth_data = pd.DataFrame()\n",
        "wealth_data['2002 Wealth'] = start_wealth['GDP per capita']\n",
        "wealth_data['2017 Wealth'] = stop_wealth['GDP per capita']\n",
        "data = pd.merge(health_data, wealth_data,\n",
        "                      left_index = True, right_index = True,\n",
        "                      how = 'inner')\n",
        "# data.drop(axis = 1, labels = ['2002, 2017'])\n",
        "data.head()"
      ],
      "execution_count": 0,
      "outputs": [
        {
          "output_type": "execute_result",
          "data": {
            "text/html": [
              "<div>\n",
              "<style scoped>\n",
              "    .dataframe tbody tr th:only-of-type {\n",
              "        vertical-align: middle;\n",
              "    }\n",
              "\n",
              "    .dataframe tbody tr th {\n",
              "        vertical-align: top;\n",
              "    }\n",
              "\n",
              "    .dataframe thead th {\n",
              "        text-align: right;\n",
              "    }\n",
              "</style>\n",
              "<table border=\"1\" class=\"dataframe\">\n",
              "  <thead>\n",
              "    <tr style=\"text-align: right;\">\n",
              "      <th></th>\n",
              "      <th>2002 Health</th>\n",
              "      <th>2017 Health</th>\n",
              "      <th>2002 Wealth</th>\n",
              "      <th>2017 Wealth</th>\n",
              "    </tr>\n",
              "    <tr>\n",
              "      <th>Country</th>\n",
              "      <th></th>\n",
              "      <th></th>\n",
              "      <th></th>\n",
              "      <th></th>\n",
              "    </tr>\n",
              "  </thead>\n",
              "  <tbody>\n",
              "    <tr>\n",
              "      <th>Albania</th>\n",
              "      <td>0.042743</td>\n",
              "      <td>0.092743</td>\n",
              "      <td>4466.666667</td>\n",
              "      <td>11700.000000</td>\n",
              "    </tr>\n",
              "    <tr>\n",
              "      <th>Algeria</th>\n",
              "      <td>0.126350</td>\n",
              "      <td>0.416350</td>\n",
              "      <td>5666.666667</td>\n",
              "      <td>14600.000000</td>\n",
              "    </tr>\n",
              "    <tr>\n",
              "      <th>American Samoa</th>\n",
              "      <td>1.423130</td>\n",
              "      <td>0.976463</td>\n",
              "      <td>8000.000000</td>\n",
              "      <td>13000.000000</td>\n",
              "    </tr>\n",
              "    <tr>\n",
              "      <th>Andorra</th>\n",
              "      <td>2.740727</td>\n",
              "      <td>1.557393</td>\n",
              "      <td>19000.000000</td>\n",
              "      <td>41433.333333</td>\n",
              "    </tr>\n",
              "    <tr>\n",
              "      <th>Angola</th>\n",
              "      <td>4.252660</td>\n",
              "      <td>2.332660</td>\n",
              "      <td>1643.333333</td>\n",
              "      <td>7100.000000</td>\n",
              "    </tr>\n",
              "  </tbody>\n",
              "</table>\n",
              "</div>"
            ],
            "text/plain": [
              "                2002 Health  2017 Health   2002 Wealth   2017 Wealth\n",
              "Country                                                             \n",
              "Albania            0.042743     0.092743   4466.666667  11700.000000\n",
              "Algeria            0.126350     0.416350   5666.666667  14600.000000\n",
              "American Samoa     1.423130     0.976463   8000.000000  13000.000000\n",
              "Andorra            2.740727     1.557393  19000.000000  41433.333333\n",
              "Angola             4.252660     2.332660   1643.333333   7100.000000"
            ]
          },
          "metadata": {
            "tags": []
          },
          "execution_count": 110
        }
      ]
    },
    {
      "metadata": {
        "id": "IYU8oQW47uPb",
        "colab_type": "text"
      },
      "cell_type": "markdown",
      "source": [
        "# First plots of the Data"
      ]
    },
    {
      "metadata": {
        "id": "8wBAMNOC_LQq",
        "colab_type": "code",
        "outputId": "a2957b84-c2eb-4e49-92b7-b3b98808af59",
        "colab": {
          "base_uri": "https://localhost:8080/",
          "height": 627
        }
      },
      "cell_type": "code",
      "source": [
        "fig, ax = plt.subplots(1, 2, figsize = (15, 10))\n",
        "\n",
        "plot_df = pd.DataFrame()\n",
        "plot_df['2002 Health'] = np.log(data['2002 Health'])\n",
        "plot_df['2002 Wealth'] = np.log(data['2002 Wealth'])\n",
        "plot_df['2017 Health'] = np.log(data['2017 Health'])\n",
        "plot_df['2017 Wealth'] = np.log(data['2017 Wealth'])\n",
        "        \n",
        "ax[0].scatter(plot_df['2002 Health'], plot_df['2002 Wealth']);\n",
        "ax[1].scatter(plot_df['2017 Health'], plot_df['2017 Wealth']);\n",
        "\n",
        "ax[0].set_xlabel('Health')\n",
        "ax[0].set_ylabel('Wealth')\n",
        "ax[1].set_xlabel('Health')\n",
        "ax[1].set_ylabel('Wealth');\n",
        "\n",
        "ax[0].set_title('Health and Wealth of countries (2002)');\n",
        "ax[1].set_title('Health and Wealth of countries (2017)');"
      ],
      "execution_count": 0,
      "outputs": [
        {
          "output_type": "display_data",
          "data": {
            "image/png": "[encoded data removed]",
            "text/plain": [
              "<matplotlib.figure.Figure at 0x7f69a9c79240>"
            ]
          },
          "metadata": {
            "tags": []
          }
        }
      ]
    },
    {
      "metadata": {
        "id": "WINBrXfY8fLJ",
        "colab_type": "text"
      },
      "cell_type": "markdown",
      "source": [
        "# Change in country Health/Wealth in a single plot"
      ]
    },
    {
      "metadata": {
        "id": "H0P9ZORxfyg6",
        "colab_type": "code",
        "outputId": "2cbb991d-41bf-475b-954c-5503fe1b187f",
        "colab": {
          "base_uri": "https://localhost:8080/",
          "height": 482
        }
      },
      "cell_type": "code",
      "source": [
        "plot_df = pd.DataFrame()\n",
        "plot_df['2002 Health'] = np.log(data['2002 Health'])\n",
        "plot_df['2002 Wealth'] = np.log(data['2002 Wealth'])\n",
        "\n",
        "sns.set_style('white')\n",
        "fig, ax = plt.subplots(2, 2, figsize = (10,7), sharex = True, sharey = True)\n",
        "\n",
        "fig.text(0.12, 0.9, 'Change in Health and Wealth of Countries (2002 - 2017)',\n",
        "         fontsize = 20)\n",
        "fig.text(0.5, 0.04, 'Percent point change in health (log scale)', \n",
        "         fontsize = 16, ha='center')\n",
        "fig.text(0.04, 0.5, 'Change in GDP per capita (USD, log scale)', \n",
        "         fontsize = 18, va='center', rotation='vertical')\n",
        "\n",
        "arrow_head_width  = 0.08\n",
        "arrow_head_length = 0.08\n",
        "\n",
        "ax[0, 0].set_xlim((-3.4, 4.5))\n",
        "ax[0, 0].set_ylim((6, 12))\n",
        "ax[0, 1].set_xlim((-3.4, 4.5))\n",
        "ax[0, 1].set_ylim((6, 12))\n",
        "ax[1, 0].set_xlim((-3.4, 4.5))\n",
        "ax[1, 0].set_ylim((6, 12))\n",
        "ax[1, 1].set_xlim((-3.4, 4.5))\n",
        "ax[1, 1].set_ylim((6, 12))\n",
        "arrow_begin_x  = np.log(data['2002 Health'].values)\n",
        "arrow_begin_y  = np.log(data['2002 Wealth'].values)\n",
        "delta_x        = np.log(data['2017 Health'].values) - arrow_begin_x\n",
        "delta_y        = np.log(data['2017 Wealth'].values) - arrow_begin_y\n",
        "\n",
        "for i in range(len(data['2002 Health'])):\n",
        "  # print('bx, by, ex, ey', arrow_begin_x[i], arrow_begin_y[i], delta_x[i], delta_y[i])\n",
        "  \n",
        "  axis = ax[0, 0]\n",
        "  color = ''\n",
        "  if (delta_x[i] < 0.0) and (delta_y[i] < 0.0):\n",
        "    color = 'magenta'\n",
        "    axis = ax[1, 0]\n",
        "  elif delta_x[i] < 0.0:\n",
        "    color = 'red'\n",
        "    axis = ax[0, 0]\n",
        "  elif delta_y[i] < 0.0:\n",
        "    color = 'blue'\n",
        "    axis = ax[0, 1]\n",
        "  else:\n",
        "    color = 'green'\n",
        "    axis = ax[1, 1]\n",
        "    \n",
        "  axis.plot(arrow_begin_x[i], arrow_begin_y[i], color = color)\n",
        "  axis.arrow(arrow_begin_x[i], \n",
        "             arrow_begin_y[i], \n",
        "             delta_x[i],\n",
        "             delta_y[i],\n",
        "             head_width = arrow_head_width,\n",
        "             head_length = arrow_head_length,\n",
        "             fc = color,\n",
        "             ec = color,\n",
        "             alpha = 0.5)\n",
        "\n",
        "plt.show()"
      ],
      "execution_count": 0,
      "outputs": [
        {
          "output_type": "display_data",
          "data": {
            "image/png": "[encoded data removed]",
            "text/plain": [
              "<matplotlib.figure.Figure at 0x7f69a3090400>"
            ]
          },
          "metadata": {
            "tags": []
          }
        }
      ]
    },
    {
      "metadata": {
        "id": "VYNlDowe8sOD",
        "colab_type": "text"
      },
      "cell_type": "markdown",
      "source": [
        "## Drill down into separate plots for Health/Wealth as needed"
      ]
    },
    {
      "metadata": {
        "id": "2eZNysM9f2rg",
        "colab_type": "code",
        "outputId": "2a6b61c7-277b-465f-e689-3d86ce54cc3f",
        "colab": {
          "base_uri": "https://localhost:8080/",
          "height": 325
        }
      },
      "cell_type": "code",
      "source": [
        "delta_health = pd.DataFrame(health_data['2017 Health'] - \\\n",
        "                            health_data['2002 Health'])\n",
        "delta_health.columns = ['']\n",
        "delta_wealth = pd.DataFrame(wealth_data['2017 Wealth'] - \\\n",
        "                            wealth_data['2002 Wealth'])\n",
        "delta_wealth.columns = ['']\n",
        "\n",
        "fig = plt.figure(figsize = (15, 10));\n",
        "\n",
        "delta_health.hist(bins = [-10, -7.5, -5, -2.5, 0.0, 2.5, 5, 7.5], grid = False);\n",
        "plt.xlabel('Percent point change', fontsize = 16);\n",
        "plt.ylabel('Number of countries', fontsize = 18);\n",
        "plt.title('Health of countries compared from 2002 through 2017', fontsize = 20);"
      ],
      "execution_count": 0,
      "outputs": [
        {
          "output_type": "display_data",
          "data": {
            "text/plain": [
              "<matplotlib.figure.Figure at 0x7f69a47c3048>"
            ]
          },
          "metadata": {
            "tags": []
          }
        },
        {
          "output_type": "display_data",
          "data": {
            "image/png": "[encoded data removed]",
            "text/plain": [
              "<matplotlib.figure.Figure at 0x7f69a3399518>"
            ]
          },
          "metadata": {
            "tags": []
          }
        }
      ]
    },
    {
      "metadata": {
        "id": "kZIaonyN8-mi",
        "colab_type": "text"
      },
      "cell_type": "markdown",
      "source": [
        "From the histogram above, we can see that the health of around 200 countries has stayed around the same (within +/- 2.5%). There are around 40 countries whose health has deteriorated, and around 5 countries whose health got better by more than 2.5%."
      ]
    },
    {
      "metadata": {
        "id": "IOErsFf-tzjw",
        "colab_type": "code",
        "outputId": "2141cd11-5323-4759-b809-4a73f2e3773f",
        "colab": {
          "base_uri": "https://localhost:8080/",
          "height": 325
        }
      },
      "cell_type": "code",
      "source": [
        "fig = plt.figure(figsize = (15, 10));\n",
        "delta_wealth.hist(bins = [-10000, 0, 10000, 20000, 30000, 40000, 50000],\n",
        "                  grid = False)\n",
        "plt.xlabel('Change in GDP per capita (in USD)', fontsize = 16);\n",
        "plt.ylabel('Number of countries', fontsize = 18);\n",
        "plt.title('Wealth of countries compared from 2002 through 2017', \n",
        "             fontsize = 20);"
      ],
      "execution_count": 0,
      "outputs": [
        {
          "output_type": "display_data",
          "data": {
            "text/plain": [
              "<matplotlib.figure.Figure at 0x7f69a32a6ef0>"
            ]
          },
          "metadata": {
            "tags": []
          }
        },
        {
          "output_type": "display_data",
          "data": {
            "image/png": "[encoded data removed]",
            "text/plain": [
              "<matplotlib.figure.Figure at 0x7f69a338d518>"
            ]
          },
          "metadata": {
            "tags": []
          }
        }
      ]
    },
    {
      "metadata": {
        "id": "XVXSX1iT9s5w",
        "colab_type": "text"
      },
      "cell_type": "markdown",
      "source": [
        "From the histogram above, we can see that the Wealth of most countries has increased.  There are only around 10 countries whose wealth has decreased.  We will drill down some more into the 0-10000 USD range, and the 10000 - 20000 USD range to see what the distribution looks like."
      ]
    },
    {
      "metadata": {
        "id": "gMxpvNUSpSUc",
        "colab_type": "code",
        "outputId": "1f62c640-6651-447a-f455-126ef541e161",
        "colab": {
          "base_uri": "https://localhost:8080/",
          "height": 325
        }
      },
      "cell_type": "code",
      "source": [
        "fig = plt.figure(figsize = (15, 10));\n",
        "delta_wealth.hist(bins = [-1000, 0, 1000, 2000, 3000, 4000, 5000,\n",
        "                          6000, 7000, 8000, 9000, 10000],\n",
        "                  grid = False);\n",
        "plt.xlabel('Change in GDP per capita (in USD)', fontsize = 16);\n",
        "plt.ylabel('Number of countries', fontsize = 18);\n",
        "plt.title('Wealth of countries compared from 2002 through 2017', \n",
        "             fontsize = 20);\n"
      ],
      "execution_count": 0,
      "outputs": [
        {
          "output_type": "display_data",
          "data": {
            "text/plain": [
              "<matplotlib.figure.Figure at 0x7f69a31d6390>"
            ]
          },
          "metadata": {
            "tags": []
          }
        },
        {
          "output_type": "display_data",
          "data": {
            "image/png": "[encoded data removed]",
            "text/plain": [
              "<matplotlib.figure.Figure at 0x7f69a338dcf8>"
            ]
          },
          "metadata": {
            "tags": []
          }
        }
      ]
    },
    {
      "metadata": {
        "id": "Gmfezx---a4E",
        "colab_type": "text"
      },
      "cell_type": "markdown",
      "source": [
        "The above graph shows countries are almost evenly distributed in GDP per capita for the 0 - 10000 USD range."
      ]
    },
    {
      "metadata": {
        "id": "N9ZMK8zOKHy3",
        "colab_type": "code",
        "outputId": "a6889734-231b-4f88-8d41-fdaeb6875741",
        "colab": {
          "base_uri": "https://localhost:8080/",
          "height": 325
        }
      },
      "cell_type": "code",
      "source": [
        "fig = plt.figure(figsize = (15, 10));\n",
        "delta_wealth.hist(bins = [10000, 11000, 12000, 13000, 14000, 15000,\n",
        "                          16000, 17000, 18000, 19000, 20000],\n",
        "                  grid = False)\n",
        "plt.xlabel('Change in GDP per capita (in USD)', fontsize = 16);\n",
        "plt.ylabel('Number of countries', fontsize = 18);\n",
        "plt.title('Wealth of countries compared from 2002 through 2017', \n",
        "             fontsize = 20);\n"
      ],
      "execution_count": 0,
      "outputs": [
        {
          "output_type": "display_data",
          "data": {
            "text/plain": [
              "<matplotlib.figure.Figure at 0x7f69a31336d8>"
            ]
          },
          "metadata": {
            "tags": []
          }
        },
        {
          "output_type": "display_data",
          "data": {
            "image/png": "[encoded data removed]",
            "text/plain": [
              "<matplotlib.figure.Figure at 0x7f69a318c5c0>"
            ]
          },
          "metadata": {
            "tags": []
          }
        }
      ]
    },
    {
      "metadata": {
        "id": "-VMLB1tZ-2sZ",
        "colab_type": "text"
      },
      "cell_type": "markdown",
      "source": [
        "The above graph shows countries are almost evenly distributed in GDP per capita for the 10000 - 20000 USD range."
      ]
    },
    {
      "metadata": {
        "id": "qQT4zzqI_D_C",
        "colab_type": "text"
      },
      "cell_type": "markdown",
      "source": [
        "# Compare the change in GDP per capita to each of the Wealth columns\n",
        "\n",
        "This will tell us if we can predict which features contribute to a greater GDP.  A greater GDP should increase the amount of money in peoples pockets locally in that country.  It should then allow that person to at least do self-care (ex. taking off from work because they're sick, and not worrying about losing their jobs).  When enough money is in their hands, they will be able to pay a doctor to take care of them."
      ]
    },
    {
      "metadata": {
        "id": "8NKSmdVFO1HP",
        "colab_type": "code",
        "colab": {}
      },
      "cell_type": "code",
      "source": [
        "delta_health.columns = ['Change in GDP per capita']\n",
        "delta_wealth.columns = ['Percent point change in wealth']"
      ],
      "execution_count": 0,
      "outputs": []
    },
    {
      "metadata": {
        "id": "x3QillXDqsyR",
        "colab_type": "code",
        "colab": {}
      },
      "cell_type": "code",
      "source": [
        "# Restore start and stop wealth to the earlier saved values\n",
        "start_wealth = save_start_wealth\n",
        "stop_wealth  = save_stop_wealth\n",
        "\n",
        "# Get the deltas of all columns between start and stop wealth\n",
        "delta_wealth_percent_diff = (stop_wealth - start_wealth) / start_wealth"
      ],
      "execution_count": 0,
      "outputs": []
    },
    {
      "metadata": {
        "id": "RULuCYcKKzfl",
        "colab_type": "code",
        "outputId": "505a5fa1-84bd-479a-d271-eb66eb066db5",
        "colab": {
          "base_uri": "https://localhost:8080/",
          "height": 323
        }
      },
      "cell_type": "code",
      "source": [
        "delta_wealth_percent_diff.head()"
      ],
      "execution_count": 0,
      "outputs": [
        {
          "output_type": "execute_result",
          "data": {
            "text/html": [
              "<div>\n",
              "<style scoped>\n",
              "    .dataframe tbody tr th:only-of-type {\n",
              "        vertical-align: middle;\n",
              "    }\n",
              "\n",
              "    .dataframe tbody tr th {\n",
              "        vertical-align: top;\n",
              "    }\n",
              "\n",
              "    .dataframe thead th {\n",
              "        text-align: right;\n",
              "    }\n",
              "</style>\n",
              "<table border=\"1\" class=\"dataframe\">\n",
              "  <thead>\n",
              "    <tr style=\"text-align: right;\">\n",
              "      <th></th>\n",
              "      <th>GDP per capita</th>\n",
              "      <th>Unemployment Rate</th>\n",
              "      <th>Budget Revenues</th>\n",
              "      <th>Budget Expenditures</th>\n",
              "      <th>Industrial Production Growth Rate</th>\n",
              "      <th>Exports in USD</th>\n",
              "      <th>Imports in USD</th>\n",
              "      <th>External debt</th>\n",
              "      <th>Population</th>\n",
              "      <th>Budget Revenues per capita</th>\n",
              "      <th>Budget Expenditures per capita</th>\n",
              "      <th>Exports in USD per capita</th>\n",
              "      <th>Imports in USD per capita</th>\n",
              "      <th>External debt per capita</th>\n",
              "    </tr>\n",
              "    <tr>\n",
              "      <th>Country</th>\n",
              "      <th></th>\n",
              "      <th></th>\n",
              "      <th></th>\n",
              "      <th></th>\n",
              "      <th></th>\n",
              "      <th></th>\n",
              "      <th></th>\n",
              "      <th></th>\n",
              "      <th></th>\n",
              "      <th></th>\n",
              "      <th></th>\n",
              "      <th></th>\n",
              "      <th></th>\n",
              "      <th></th>\n",
              "    </tr>\n",
              "  </thead>\n",
              "  <tbody>\n",
              "    <tr>\n",
              "      <th>Afghanistan</th>\n",
              "      <td>1.681818</td>\n",
              "      <td>NaN</td>\n",
              "      <td>13.336667</td>\n",
              "      <td>10.098182</td>\n",
              "      <td>NaN</td>\n",
              "      <td>0.583747</td>\n",
              "      <td>6.029110</td>\n",
              "      <td>NaN</td>\n",
              "      <td>0.190602</td>\n",
              "      <td>11.041532</td>\n",
              "      <td>8.321491</td>\n",
              "      <td>0.330207</td>\n",
              "      <td>4.903831</td>\n",
              "      <td>NaN</td>\n",
              "    </tr>\n",
              "    <tr>\n",
              "      <th>Albania</th>\n",
              "      <td>1.619403</td>\n",
              "      <td>0.026423</td>\n",
              "      <td>2.555919</td>\n",
              "      <td>1.443916</td>\n",
              "      <td>-0.618357</td>\n",
              "      <td>2.687602</td>\n",
              "      <td>1.588866</td>\n",
              "      <td>7.367696</td>\n",
              "      <td>-0.144491</td>\n",
              "      <td>3.156493</td>\n",
              "      <td>1.856679</td>\n",
              "      <td>3.310416</td>\n",
              "      <td>2.026110</td>\n",
              "      <td>8.780952</td>\n",
              "    </tr>\n",
              "    <tr>\n",
              "      <th>Algeria</th>\n",
              "      <td>1.576471</td>\n",
              "      <td>-0.645833</td>\n",
              "      <td>1.636708</td>\n",
              "      <td>2.863403</td>\n",
              "      <td>-0.405556</td>\n",
              "      <td>0.955285</td>\n",
              "      <td>3.753123</td>\n",
              "      <td>-0.781148</td>\n",
              "      <td>0.253266</td>\n",
              "      <td>1.103869</td>\n",
              "      <td>2.082669</td>\n",
              "      <td>0.560151</td>\n",
              "      <td>2.792590</td>\n",
              "      <td>-0.825374</td>\n",
              "    </tr>\n",
              "    <tr>\n",
              "      <th>American Samoa</th>\n",
              "      <td>0.625000</td>\n",
              "      <td>3.966667</td>\n",
              "      <td>-0.978479</td>\n",
              "      <td>-0.976223</td>\n",
              "      <td>-0.292308</td>\n",
              "      <td>0.912500</td>\n",
              "      <td>0.647517</td>\n",
              "      <td>-0.864736</td>\n",
              "      <td>-0.194580</td>\n",
              "      <td>-0.973279</td>\n",
              "      <td>-0.970479</td>\n",
              "      <td>1.374536</td>\n",
              "      <td>1.045537</td>\n",
              "      <td>-0.832058</td>\n",
              "    </tr>\n",
              "    <tr>\n",
              "      <th>Andorra</th>\n",
              "      <td>1.180702</td>\n",
              "      <td>inf</td>\n",
              "      <td>2.402597</td>\n",
              "      <td>3.037037</td>\n",
              "      <td>-0.037500</td>\n",
              "      <td>0.256954</td>\n",
              "      <td>0.274219</td>\n",
              "      <td>-1.000000</td>\n",
              "      <td>0.176067</td>\n",
              "      <td>1.893200</td>\n",
              "      <td>2.432659</td>\n",
              "      <td>0.068777</td>\n",
              "      <td>0.083457</td>\n",
              "      <td>-1.000000</td>\n",
              "    </tr>\n",
              "  </tbody>\n",
              "</table>\n",
              "</div>"
            ],
            "text/plain": [
              "                GDP per capita  Unemployment Rate  Budget Revenues  Budget Expenditures  Industrial Production Growth Rate  Exports in USD  Imports in USD  External debt  Population  Budget Revenues per capita  Budget Expenditures per capita  Exports in USD per capita  Imports in USD per capita  External debt per capita\n",
              "Country                                                                                                                                                                                                                                                                                                                          \n",
              "Afghanistan           1.681818                NaN        13.336667            10.098182                                NaN        0.583747        6.029110            NaN    0.190602                   11.041532                        8.321491                   0.330207                   4.903831                       NaN\n",
              "Albania               1.619403           0.026423         2.555919             1.443916                          -0.618357        2.687602        1.588866       7.367696   -0.144491                    3.156493                        1.856679                   3.310416                   2.026110                  8.780952\n",
              "Algeria               1.576471          -0.645833         1.636708             2.863403                          -0.405556        0.955285        3.753123      -0.781148    0.253266                    1.103869                        2.082669                   0.560151                   2.792590                 -0.825374\n",
              "American Samoa        0.625000           3.966667        -0.978479            -0.976223                          -0.292308        0.912500        0.647517      -0.864736   -0.194580                   -0.973279                       -0.970479                   1.374536                   1.045537                 -0.832058\n",
              "Andorra               1.180702                inf         2.402597             3.037037                          -0.037500        0.256954        0.274219      -1.000000    0.176067                    1.893200                        2.432659                   0.068777                   0.083457                 -1.000000"
            ]
          },
          "metadata": {
            "tags": []
          },
          "execution_count": 119
        }
      ]
    },
    {
      "metadata": {
        "id": "uZt_rZ0ULOX6",
        "colab_type": "code",
        "outputId": "31e94b64-de2c-4e0d-ea4e-71b6bf469f4f",
        "colab": {
          "base_uri": "https://localhost:8080/",
          "height": 474
        }
      },
      "cell_type": "code",
      "source": [
        "# Compare each column of the percentage change of the 2002 and 2017\n",
        "# wealth indicators to the percentage change in GDP per capita.\n",
        "#\n",
        "pearson_corr = delta_wealth_percent_diff.corr('pearson'). \\\n",
        "                  iloc[0] # linear correlation\n",
        "kendall_corr = delta_wealth_percent_diff.corr('kendall'). \\\n",
        "                  iloc[0] # rank correlation\n",
        "spearman_corr = delta_wealth_percent_diff.corr('spearman'). \\\n",
        "                  iloc[0] # monotonic corr\n",
        "\n",
        "corrs = pd.DataFrame()\n",
        "corrs['Linear corr\\n(Pearson)'] = pearson_corr\n",
        "corrs['Rank corr\\n(Kendall)'] = kendall_corr\n",
        "corrs['Monotonic corr\\n(Spearman)'] = spearman_corr\n",
        "fig = plt.figure(figsize = (10, 7))\n",
        "plt.title('Correlation of Change in GDP per capita\\nagainst wealth indicators')\n",
        "sns.heatmap(corrs[1:]);"
      ],
      "execution_count": 0,
      "outputs": [
        {
          "output_type": "display_data",
          "data": {
            "image/png": "[encoded data removed]",
            "text/plain": [
              "<matplotlib.figure.Figure at 0x7f69a9d12e80>"
            ]
          },
          "metadata": {
            "tags": []
          }
        }
      ]
    },
    {
      "metadata": {
        "id": "XxYHTHQUAIpJ",
        "colab_type": "text"
      },
      "cell_type": "markdown",
      "source": [
        "The heatmap above shows there is very little linear correlation (first column of heatmap), between the GDP per capita and each of the wealth indicators.\n",
        "\n",
        "There is more correlation between the rankings of GDP per capita, and each of the wealth indicators.\n",
        "\n",
        "The monotonically increasing correlation coefficient shows the most correlation.\n",
        "\n",
        "Specifically, the highest correlation seems to be between GDP per capita and Budget Revenues/Expenditures, Exports, and Imports"
      ]
    }
  ]
}